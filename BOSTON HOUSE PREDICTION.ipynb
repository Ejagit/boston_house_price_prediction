{
 "cells": [
  {
   "cell_type": "code",
   "execution_count": 1,
   "id": "65bc7d49-08d3-414d-8269-3a9ef4c63288",
   "metadata": {
    "id": "65bc7d49-08d3-414d-8269-3a9ef4c63288"
   },
   "outputs": [],
   "source": [
    "import warnings\n",
    "warnings.filterwarnings('ignore')\n",
    "\n",
    "import numpy as np\n",
    "import pandas as pd\n",
    "import seaborn as sns\n",
    "import matplotlib.pyplot as plt"
   ]
  },
  {
   "cell_type": "raw",
   "id": "1f58a0bf-5621-40c5-9e5d-2137114cb691",
   "metadata": {
    "id": "1f58a0bf-5621-40c5-9e5d-2137114cb691"
   },
   "source": [
    "-ABOUT DATASET-\n",
    "\n",
    "CRIM - per capita crime rate by town\n",
    "ZN - proportion of residential land zoned for lots over 25,000 sq.ft.\n",
    "INDUS - proportion of non-retail business acres per town.\n",
    "CHAS - Charles River dummy variable (1 if tract bounds river; 0 otherwise)\n",
    "NOX - nitric oxides concentration (parts per 10 million)\n",
    "RM - average number of rooms per dwelling\n",
    "AGE - proportion of owner-occupied units built prior to 1940\n",
    "DIS - weighted distances to five Boston employment centres\n",
    "RAD - index of accessibility to radial highways\n",
    "TAX - full-value property-tax rate per $10,000\n",
    "PTRATIO - pupil-teacher ratio by town\n",
    "B - 1000(Bk - 0.63)^2 where Bk is the proportion of blacks by town\n",
    "LSTAT - % lower status of the population\n",
    "MEDV - Median value of owner-occupied homes in $1000'somes in $1000's"
   ]
  },
  {
   "cell_type": "code",
   "execution_count": 2,
   "id": "6914b7d1-d12f-4505-98ad-54997836253a",
   "metadata": {
    "id": "6914b7d1-d12f-4505-98ad-54997836253a",
    "outputId": "184b752f-feee-4528-81dd-06850caff2e7"
   },
   "outputs": [
    {
     "data": {
      "text/html": [
       "<div>\n",
       "<style scoped>\n",
       "    .dataframe tbody tr th:only-of-type {\n",
       "        vertical-align: middle;\n",
       "    }\n",
       "\n",
       "    .dataframe tbody tr th {\n",
       "        vertical-align: top;\n",
       "    }\n",
       "\n",
       "    .dataframe thead th {\n",
       "        text-align: right;\n",
       "    }\n",
       "</style>\n",
       "<table border=\"1\" class=\"dataframe\">\n",
       "  <thead>\n",
       "    <tr style=\"text-align: right;\">\n",
       "      <th></th>\n",
       "      <th>crim</th>\n",
       "      <th>zn</th>\n",
       "      <th>indus</th>\n",
       "      <th>chas</th>\n",
       "      <th>nox</th>\n",
       "      <th>rm</th>\n",
       "      <th>age</th>\n",
       "      <th>dis</th>\n",
       "      <th>rad</th>\n",
       "      <th>tax</th>\n",
       "      <th>ptratio</th>\n",
       "      <th>black</th>\n",
       "      <th>lstat</th>\n",
       "      <th>medv</th>\n",
       "    </tr>\n",
       "  </thead>\n",
       "  <tbody>\n",
       "    <tr>\n",
       "      <th>0</th>\n",
       "      <td>0.00632</td>\n",
       "      <td>18.0</td>\n",
       "      <td>2.31</td>\n",
       "      <td>0</td>\n",
       "      <td>0.538</td>\n",
       "      <td>6.575</td>\n",
       "      <td>65.2</td>\n",
       "      <td>4.0900</td>\n",
       "      <td>1</td>\n",
       "      <td>296</td>\n",
       "      <td>15.3</td>\n",
       "      <td>396.90</td>\n",
       "      <td>4.98</td>\n",
       "      <td>24.0</td>\n",
       "    </tr>\n",
       "    <tr>\n",
       "      <th>1</th>\n",
       "      <td>0.02731</td>\n",
       "      <td>0.0</td>\n",
       "      <td>7.07</td>\n",
       "      <td>0</td>\n",
       "      <td>0.469</td>\n",
       "      <td>6.421</td>\n",
       "      <td>78.9</td>\n",
       "      <td>4.9671</td>\n",
       "      <td>2</td>\n",
       "      <td>242</td>\n",
       "      <td>17.8</td>\n",
       "      <td>396.90</td>\n",
       "      <td>9.14</td>\n",
       "      <td>21.6</td>\n",
       "    </tr>\n",
       "    <tr>\n",
       "      <th>2</th>\n",
       "      <td>0.02729</td>\n",
       "      <td>0.0</td>\n",
       "      <td>7.07</td>\n",
       "      <td>0</td>\n",
       "      <td>0.469</td>\n",
       "      <td>7.185</td>\n",
       "      <td>61.1</td>\n",
       "      <td>4.9671</td>\n",
       "      <td>2</td>\n",
       "      <td>242</td>\n",
       "      <td>17.8</td>\n",
       "      <td>392.83</td>\n",
       "      <td>4.03</td>\n",
       "      <td>34.7</td>\n",
       "    </tr>\n",
       "    <tr>\n",
       "      <th>3</th>\n",
       "      <td>0.03237</td>\n",
       "      <td>0.0</td>\n",
       "      <td>2.18</td>\n",
       "      <td>0</td>\n",
       "      <td>0.458</td>\n",
       "      <td>6.998</td>\n",
       "      <td>45.8</td>\n",
       "      <td>6.0622</td>\n",
       "      <td>3</td>\n",
       "      <td>222</td>\n",
       "      <td>18.7</td>\n",
       "      <td>394.63</td>\n",
       "      <td>2.94</td>\n",
       "      <td>33.4</td>\n",
       "    </tr>\n",
       "    <tr>\n",
       "      <th>4</th>\n",
       "      <td>0.06905</td>\n",
       "      <td>0.0</td>\n",
       "      <td>2.18</td>\n",
       "      <td>0</td>\n",
       "      <td>0.458</td>\n",
       "      <td>7.147</td>\n",
       "      <td>54.2</td>\n",
       "      <td>6.0622</td>\n",
       "      <td>3</td>\n",
       "      <td>222</td>\n",
       "      <td>18.7</td>\n",
       "      <td>396.90</td>\n",
       "      <td>5.33</td>\n",
       "      <td>36.2</td>\n",
       "    </tr>\n",
       "    <tr>\n",
       "      <th>...</th>\n",
       "      <td>...</td>\n",
       "      <td>...</td>\n",
       "      <td>...</td>\n",
       "      <td>...</td>\n",
       "      <td>...</td>\n",
       "      <td>...</td>\n",
       "      <td>...</td>\n",
       "      <td>...</td>\n",
       "      <td>...</td>\n",
       "      <td>...</td>\n",
       "      <td>...</td>\n",
       "      <td>...</td>\n",
       "      <td>...</td>\n",
       "      <td>...</td>\n",
       "    </tr>\n",
       "    <tr>\n",
       "      <th>501</th>\n",
       "      <td>0.06263</td>\n",
       "      <td>0.0</td>\n",
       "      <td>11.93</td>\n",
       "      <td>0</td>\n",
       "      <td>0.573</td>\n",
       "      <td>6.593</td>\n",
       "      <td>69.1</td>\n",
       "      <td>2.4786</td>\n",
       "      <td>1</td>\n",
       "      <td>273</td>\n",
       "      <td>21.0</td>\n",
       "      <td>391.99</td>\n",
       "      <td>9.67</td>\n",
       "      <td>22.4</td>\n",
       "    </tr>\n",
       "    <tr>\n",
       "      <th>502</th>\n",
       "      <td>0.04527</td>\n",
       "      <td>0.0</td>\n",
       "      <td>11.93</td>\n",
       "      <td>0</td>\n",
       "      <td>0.573</td>\n",
       "      <td>6.120</td>\n",
       "      <td>76.7</td>\n",
       "      <td>2.2875</td>\n",
       "      <td>1</td>\n",
       "      <td>273</td>\n",
       "      <td>21.0</td>\n",
       "      <td>396.90</td>\n",
       "      <td>9.08</td>\n",
       "      <td>20.6</td>\n",
       "    </tr>\n",
       "    <tr>\n",
       "      <th>503</th>\n",
       "      <td>0.06076</td>\n",
       "      <td>0.0</td>\n",
       "      <td>11.93</td>\n",
       "      <td>0</td>\n",
       "      <td>0.573</td>\n",
       "      <td>6.976</td>\n",
       "      <td>91.0</td>\n",
       "      <td>2.1675</td>\n",
       "      <td>1</td>\n",
       "      <td>273</td>\n",
       "      <td>21.0</td>\n",
       "      <td>396.90</td>\n",
       "      <td>5.64</td>\n",
       "      <td>23.9</td>\n",
       "    </tr>\n",
       "    <tr>\n",
       "      <th>504</th>\n",
       "      <td>0.10959</td>\n",
       "      <td>0.0</td>\n",
       "      <td>11.93</td>\n",
       "      <td>0</td>\n",
       "      <td>0.573</td>\n",
       "      <td>6.794</td>\n",
       "      <td>89.3</td>\n",
       "      <td>2.3889</td>\n",
       "      <td>1</td>\n",
       "      <td>273</td>\n",
       "      <td>21.0</td>\n",
       "      <td>393.45</td>\n",
       "      <td>6.48</td>\n",
       "      <td>22.0</td>\n",
       "    </tr>\n",
       "    <tr>\n",
       "      <th>505</th>\n",
       "      <td>0.04741</td>\n",
       "      <td>0.0</td>\n",
       "      <td>11.93</td>\n",
       "      <td>0</td>\n",
       "      <td>0.573</td>\n",
       "      <td>6.030</td>\n",
       "      <td>80.8</td>\n",
       "      <td>2.5050</td>\n",
       "      <td>1</td>\n",
       "      <td>273</td>\n",
       "      <td>21.0</td>\n",
       "      <td>396.90</td>\n",
       "      <td>7.88</td>\n",
       "      <td>11.9</td>\n",
       "    </tr>\n",
       "  </tbody>\n",
       "</table>\n",
       "<p>506 rows × 14 columns</p>\n",
       "</div>"
      ],
      "text/plain": [
       "        crim    zn  indus  chas    nox     rm   age     dis  rad  tax  \\\n",
       "0    0.00632  18.0   2.31     0  0.538  6.575  65.2  4.0900    1  296   \n",
       "1    0.02731   0.0   7.07     0  0.469  6.421  78.9  4.9671    2  242   \n",
       "2    0.02729   0.0   7.07     0  0.469  7.185  61.1  4.9671    2  242   \n",
       "3    0.03237   0.0   2.18     0  0.458  6.998  45.8  6.0622    3  222   \n",
       "4    0.06905   0.0   2.18     0  0.458  7.147  54.2  6.0622    3  222   \n",
       "..       ...   ...    ...   ...    ...    ...   ...     ...  ...  ...   \n",
       "501  0.06263   0.0  11.93     0  0.573  6.593  69.1  2.4786    1  273   \n",
       "502  0.04527   0.0  11.93     0  0.573  6.120  76.7  2.2875    1  273   \n",
       "503  0.06076   0.0  11.93     0  0.573  6.976  91.0  2.1675    1  273   \n",
       "504  0.10959   0.0  11.93     0  0.573  6.794  89.3  2.3889    1  273   \n",
       "505  0.04741   0.0  11.93     0  0.573  6.030  80.8  2.5050    1  273   \n",
       "\n",
       "     ptratio   black  lstat  medv  \n",
       "0       15.3  396.90   4.98  24.0  \n",
       "1       17.8  396.90   9.14  21.6  \n",
       "2       17.8  392.83   4.03  34.7  \n",
       "3       18.7  394.63   2.94  33.4  \n",
       "4       18.7  396.90   5.33  36.2  \n",
       "..       ...     ...    ...   ...  \n",
       "501     21.0  391.99   9.67  22.4  \n",
       "502     21.0  396.90   9.08  20.6  \n",
       "503     21.0  396.90   5.64  23.9  \n",
       "504     21.0  393.45   6.48  22.0  \n",
       "505     21.0  396.90   7.88  11.9  \n",
       "\n",
       "[506 rows x 14 columns]"
      ]
     },
     "execution_count": 2,
     "metadata": {},
     "output_type": "execute_result"
    }
   ],
   "source": [
    "df = pd.read_csv('Boston.csv')\n",
    "df"
   ]
  },
  {
   "cell_type": "code",
   "execution_count": 3,
   "id": "a2d7f12e-d128-42ff-a61a-61137bee6066",
   "metadata": {
    "id": "a2d7f12e-d128-42ff-a61a-61137bee6066",
    "outputId": "70ba69cf-e1da-428e-c100-aec0149f39e1"
   },
   "outputs": [
    {
     "data": {
      "text/html": [
       "<div>\n",
       "<style scoped>\n",
       "    .dataframe tbody tr th:only-of-type {\n",
       "        vertical-align: middle;\n",
       "    }\n",
       "\n",
       "    .dataframe tbody tr th {\n",
       "        vertical-align: top;\n",
       "    }\n",
       "\n",
       "    .dataframe thead th {\n",
       "        text-align: right;\n",
       "    }\n",
       "</style>\n",
       "<table border=\"1\" class=\"dataframe\">\n",
       "  <thead>\n",
       "    <tr style=\"text-align: right;\">\n",
       "      <th></th>\n",
       "      <th>crim</th>\n",
       "      <th>zn</th>\n",
       "      <th>indus</th>\n",
       "      <th>chas</th>\n",
       "      <th>nox</th>\n",
       "      <th>rm</th>\n",
       "      <th>age</th>\n",
       "      <th>dis</th>\n",
       "      <th>rad</th>\n",
       "      <th>tax</th>\n",
       "      <th>ptratio</th>\n",
       "      <th>black</th>\n",
       "      <th>lstat</th>\n",
       "      <th>medv</th>\n",
       "    </tr>\n",
       "  </thead>\n",
       "  <tbody>\n",
       "    <tr>\n",
       "      <th>count</th>\n",
       "      <td>506.000000</td>\n",
       "      <td>506.000000</td>\n",
       "      <td>506.000000</td>\n",
       "      <td>506.000000</td>\n",
       "      <td>506.000000</td>\n",
       "      <td>506.000000</td>\n",
       "      <td>506.000000</td>\n",
       "      <td>506.000000</td>\n",
       "      <td>506.000000</td>\n",
       "      <td>506.000000</td>\n",
       "      <td>506.000000</td>\n",
       "      <td>506.000000</td>\n",
       "      <td>506.000000</td>\n",
       "      <td>506.000000</td>\n",
       "    </tr>\n",
       "    <tr>\n",
       "      <th>mean</th>\n",
       "      <td>3.613524</td>\n",
       "      <td>11.363636</td>\n",
       "      <td>11.136779</td>\n",
       "      <td>0.069170</td>\n",
       "      <td>0.554695</td>\n",
       "      <td>6.284634</td>\n",
       "      <td>68.574901</td>\n",
       "      <td>3.795043</td>\n",
       "      <td>9.549407</td>\n",
       "      <td>408.237154</td>\n",
       "      <td>18.455534</td>\n",
       "      <td>356.674032</td>\n",
       "      <td>12.653063</td>\n",
       "      <td>22.532806</td>\n",
       "    </tr>\n",
       "    <tr>\n",
       "      <th>std</th>\n",
       "      <td>8.601545</td>\n",
       "      <td>23.322453</td>\n",
       "      <td>6.860353</td>\n",
       "      <td>0.253994</td>\n",
       "      <td>0.115878</td>\n",
       "      <td>0.702617</td>\n",
       "      <td>28.148861</td>\n",
       "      <td>2.105710</td>\n",
       "      <td>8.707259</td>\n",
       "      <td>168.537116</td>\n",
       "      <td>2.164946</td>\n",
       "      <td>91.294864</td>\n",
       "      <td>7.141062</td>\n",
       "      <td>9.197104</td>\n",
       "    </tr>\n",
       "    <tr>\n",
       "      <th>min</th>\n",
       "      <td>0.006320</td>\n",
       "      <td>0.000000</td>\n",
       "      <td>0.460000</td>\n",
       "      <td>0.000000</td>\n",
       "      <td>0.385000</td>\n",
       "      <td>3.561000</td>\n",
       "      <td>2.900000</td>\n",
       "      <td>1.129600</td>\n",
       "      <td>1.000000</td>\n",
       "      <td>187.000000</td>\n",
       "      <td>12.600000</td>\n",
       "      <td>0.320000</td>\n",
       "      <td>1.730000</td>\n",
       "      <td>5.000000</td>\n",
       "    </tr>\n",
       "    <tr>\n",
       "      <th>25%</th>\n",
       "      <td>0.082045</td>\n",
       "      <td>0.000000</td>\n",
       "      <td>5.190000</td>\n",
       "      <td>0.000000</td>\n",
       "      <td>0.449000</td>\n",
       "      <td>5.885500</td>\n",
       "      <td>45.025000</td>\n",
       "      <td>2.100175</td>\n",
       "      <td>4.000000</td>\n",
       "      <td>279.000000</td>\n",
       "      <td>17.400000</td>\n",
       "      <td>375.377500</td>\n",
       "      <td>6.950000</td>\n",
       "      <td>17.025000</td>\n",
       "    </tr>\n",
       "    <tr>\n",
       "      <th>50%</th>\n",
       "      <td>0.256510</td>\n",
       "      <td>0.000000</td>\n",
       "      <td>9.690000</td>\n",
       "      <td>0.000000</td>\n",
       "      <td>0.538000</td>\n",
       "      <td>6.208500</td>\n",
       "      <td>77.500000</td>\n",
       "      <td>3.207450</td>\n",
       "      <td>5.000000</td>\n",
       "      <td>330.000000</td>\n",
       "      <td>19.050000</td>\n",
       "      <td>391.440000</td>\n",
       "      <td>11.360000</td>\n",
       "      <td>21.200000</td>\n",
       "    </tr>\n",
       "    <tr>\n",
       "      <th>75%</th>\n",
       "      <td>3.677083</td>\n",
       "      <td>12.500000</td>\n",
       "      <td>18.100000</td>\n",
       "      <td>0.000000</td>\n",
       "      <td>0.624000</td>\n",
       "      <td>6.623500</td>\n",
       "      <td>94.075000</td>\n",
       "      <td>5.188425</td>\n",
       "      <td>24.000000</td>\n",
       "      <td>666.000000</td>\n",
       "      <td>20.200000</td>\n",
       "      <td>396.225000</td>\n",
       "      <td>16.955000</td>\n",
       "      <td>25.000000</td>\n",
       "    </tr>\n",
       "    <tr>\n",
       "      <th>max</th>\n",
       "      <td>88.976200</td>\n",
       "      <td>100.000000</td>\n",
       "      <td>27.740000</td>\n",
       "      <td>1.000000</td>\n",
       "      <td>0.871000</td>\n",
       "      <td>8.780000</td>\n",
       "      <td>100.000000</td>\n",
       "      <td>12.126500</td>\n",
       "      <td>24.000000</td>\n",
       "      <td>711.000000</td>\n",
       "      <td>22.000000</td>\n",
       "      <td>396.900000</td>\n",
       "      <td>37.970000</td>\n",
       "      <td>50.000000</td>\n",
       "    </tr>\n",
       "  </tbody>\n",
       "</table>\n",
       "</div>"
      ],
      "text/plain": [
       "             crim          zn       indus        chas         nox          rm  \\\n",
       "count  506.000000  506.000000  506.000000  506.000000  506.000000  506.000000   \n",
       "mean     3.613524   11.363636   11.136779    0.069170    0.554695    6.284634   \n",
       "std      8.601545   23.322453    6.860353    0.253994    0.115878    0.702617   \n",
       "min      0.006320    0.000000    0.460000    0.000000    0.385000    3.561000   \n",
       "25%      0.082045    0.000000    5.190000    0.000000    0.449000    5.885500   \n",
       "50%      0.256510    0.000000    9.690000    0.000000    0.538000    6.208500   \n",
       "75%      3.677083   12.500000   18.100000    0.000000    0.624000    6.623500   \n",
       "max     88.976200  100.000000   27.740000    1.000000    0.871000    8.780000   \n",
       "\n",
       "              age         dis         rad         tax     ptratio       black  \\\n",
       "count  506.000000  506.000000  506.000000  506.000000  506.000000  506.000000   \n",
       "mean    68.574901    3.795043    9.549407  408.237154   18.455534  356.674032   \n",
       "std     28.148861    2.105710    8.707259  168.537116    2.164946   91.294864   \n",
       "min      2.900000    1.129600    1.000000  187.000000   12.600000    0.320000   \n",
       "25%     45.025000    2.100175    4.000000  279.000000   17.400000  375.377500   \n",
       "50%     77.500000    3.207450    5.000000  330.000000   19.050000  391.440000   \n",
       "75%     94.075000    5.188425   24.000000  666.000000   20.200000  396.225000   \n",
       "max    100.000000   12.126500   24.000000  711.000000   22.000000  396.900000   \n",
       "\n",
       "            lstat        medv  \n",
       "count  506.000000  506.000000  \n",
       "mean    12.653063   22.532806  \n",
       "std      7.141062    9.197104  \n",
       "min      1.730000    5.000000  \n",
       "25%      6.950000   17.025000  \n",
       "50%     11.360000   21.200000  \n",
       "75%     16.955000   25.000000  \n",
       "max     37.970000   50.000000  "
      ]
     },
     "execution_count": 3,
     "metadata": {},
     "output_type": "execute_result"
    }
   ],
   "source": [
    "df.describe()"
   ]
  },
  {
   "cell_type": "markdown",
   "id": "467f6a25-db34-4614-96fb-68f85f4003b7",
   "metadata": {
    "id": "467f6a25-db34-4614-96fb-68f85f4003b7"
   },
   "source": [
    "# DETECT MULTICOLLINEARITY"
   ]
  },
  {
   "cell_type": "markdown",
   "id": "745f8a17-fe46-4821-aeeb-d208d7bc1f38",
   "metadata": {
    "id": "745f8a17-fe46-4821-aeeb-d208d7bc1f38"
   },
   "source": [
    "__USING HEATMAP__"
   ]
  },
  {
   "cell_type": "code",
   "execution_count": 4,
   "id": "15f951a5-92e1-4a48-8682-8cf36dc354e2",
   "metadata": {
    "id": "15f951a5-92e1-4a48-8682-8cf36dc354e2",
    "outputId": "7fcee0a8-7191-418d-bd15-6cad9922cb95"
   },
   "outputs": [
    {
     "data": {
      "text/plain": [
       "Text(0.5, 1.0, 'Heatmap Korelasi')"
      ]
     },
     "execution_count": 4,
     "metadata": {},
     "output_type": "execute_result"
    },
    {
     "data": {
      "image/png": "[encoded data removed]",
      "text/plain": [
       "<Figure size 800x600 with 2 Axes>"
      ]
     },
     "metadata": {},
     "output_type": "display_data"
    }
   ],
   "source": [
    "plt.figure(figsize=(8, 6))\n",
    "sns.heatmap(df.corr(), annot=True, fmt=\".2f\", cmap='coolwarm')\n",
    "plt.title('Heatmap Korelasi')"
   ]
  },
  {
   "cell_type": "markdown",
   "id": "81fbde01-723a-4325-b9b7-0dc92ddc5976",
   "metadata": {
    "id": "81fbde01-723a-4325-b9b7-0dc92ddc5976"
   },
   "source": [
    "__SPLITTING THE DATA__\n",
    "\n",
    "Splitting data become : train | validate | test"
   ]
  },
  {
   "cell_type": "code",
   "execution_count": 5,
   "id": "840d0c95-a5f9-4bae-afc2-ca976fe6cb54",
   "metadata": {
    "id": "840d0c95-a5f9-4bae-afc2-ca976fe6cb54"
   },
   "outputs": [],
   "source": [
    "# split train test\n",
    "from sklearn.model_selection import train_test_split\n",
    "\n",
    "feature = df.drop(columns='medv')\n",
    "target = df[['medv']]\n",
    "\n",
    "# First splitting: pretrain and test\n",
    "feature_df_pretrain, feature_df_test, target_df_pretrain, target_df_test = train_test_split(feature, target, test_size=0.20, random_state=42)\n",
    "\n",
    "# Second splitting: train and validation\n",
    "feature_df_train, feature_df_validation, target_df_train, target_df_validation = train_test_split(feature_df_pretrain, target_df_pretrain, test_size=0.20, random_state=42)"
   ]
  },
  {
   "cell_type": "markdown",
   "id": "3dd56e70-8d46-4d96-b114-35bc32ec6783",
   "metadata": {
    "id": "3dd56e70-8d46-4d96-b114-35bc32ec6783"
   },
   "source": [
    "Makes medv as a target for predicting house price"
   ]
  },
  {
   "cell_type": "markdown",
   "id": "471183c0-a93e-4a17-acb0-9080d4b6932a",
   "metadata": {
    "id": "471183c0-a93e-4a17-acb0-9080d4b6932a"
   },
   "source": [
    "__Detect MULTICOLLINEARITY by computing Variance Inflation Factor (VIF)__"
   ]
  },
  {
   "cell_type": "code",
   "execution_count": 6,
   "id": "19be0545-f806-42a7-94e7-2a412ee11fac",
   "metadata": {
    "id": "19be0545-f806-42a7-94e7-2a412ee11fac",
    "outputId": "d64fb33b-e55f-4877-992d-d072e448ad99"
   },
   "outputs": [
    {
     "data": {
      "text/html": [
       "<div>\n",
       "<style scoped>\n",
       "    .dataframe tbody tr th:only-of-type {\n",
       "        vertical-align: middle;\n",
       "    }\n",
       "\n",
       "    .dataframe tbody tr th {\n",
       "        vertical-align: top;\n",
       "    }\n",
       "\n",
       "    .dataframe thead th {\n",
       "        text-align: right;\n",
       "    }\n",
       "</style>\n",
       "<table border=\"1\" class=\"dataframe\">\n",
       "  <thead>\n",
       "    <tr style=\"text-align: right;\">\n",
       "      <th></th>\n",
       "      <th>feature</th>\n",
       "      <th>vif_score</th>\n",
       "    </tr>\n",
       "  </thead>\n",
       "  <tbody>\n",
       "    <tr>\n",
       "      <th>1</th>\n",
       "      <td>crim</td>\n",
       "      <td>1.750939</td>\n",
       "    </tr>\n",
       "    <tr>\n",
       "      <th>2</th>\n",
       "      <td>zn</td>\n",
       "      <td>2.473421</td>\n",
       "    </tr>\n",
       "    <tr>\n",
       "      <th>3</th>\n",
       "      <td>indus</td>\n",
       "      <td>3.741988</td>\n",
       "    </tr>\n",
       "    <tr>\n",
       "      <th>4</th>\n",
       "      <td>chas</td>\n",
       "      <td>1.110042</td>\n",
       "    </tr>\n",
       "    <tr>\n",
       "      <th>5</th>\n",
       "      <td>nox</td>\n",
       "      <td>4.585650</td>\n",
       "    </tr>\n",
       "    <tr>\n",
       "      <th>6</th>\n",
       "      <td>rm</td>\n",
       "      <td>1.972174</td>\n",
       "    </tr>\n",
       "    <tr>\n",
       "      <th>7</th>\n",
       "      <td>age</td>\n",
       "      <td>3.127443</td>\n",
       "    </tr>\n",
       "    <tr>\n",
       "      <th>8</th>\n",
       "      <td>dis</td>\n",
       "      <td>4.390458</td>\n",
       "    </tr>\n",
       "    <tr>\n",
       "      <th>9</th>\n",
       "      <td>rad</td>\n",
       "      <td>7.182410</td>\n",
       "    </tr>\n",
       "    <tr>\n",
       "      <th>10</th>\n",
       "      <td>tax</td>\n",
       "      <td>8.268145</td>\n",
       "    </tr>\n",
       "    <tr>\n",
       "      <th>11</th>\n",
       "      <td>ptratio</td>\n",
       "      <td>1.854101</td>\n",
       "    </tr>\n",
       "    <tr>\n",
       "      <th>12</th>\n",
       "      <td>black</td>\n",
       "      <td>1.369229</td>\n",
       "    </tr>\n",
       "    <tr>\n",
       "      <th>13</th>\n",
       "      <td>lstat</td>\n",
       "      <td>3.020946</td>\n",
       "    </tr>\n",
       "  </tbody>\n",
       "</table>\n",
       "</div>"
      ],
      "text/plain": [
       "    feature  vif_score\n",
       "1      crim   1.750939\n",
       "2        zn   2.473421\n",
       "3     indus   3.741988\n",
       "4      chas   1.110042\n",
       "5       nox   4.585650\n",
       "6        rm   1.972174\n",
       "7       age   3.127443\n",
       "8       dis   4.390458\n",
       "9       rad   7.182410\n",
       "10      tax   8.268145\n",
       "11  ptratio   1.854101\n",
       "12    black   1.369229\n",
       "13    lstat   3.020946"
      ]
     },
     "execution_count": 6,
     "metadata": {},
     "output_type": "execute_result"
    }
   ],
   "source": [
    "# calculate VIF scores for each feature\n",
    "from statsmodels.stats.outliers_influence import variance_inflation_factor as vif\n",
    "from statsmodels.tools.tools import add_constant\n",
    "\n",
    "X = add_constant(feature_df_train)\n",
    "\n",
    "vif_df = pd.DataFrame([vif(X.values, i)\n",
    "               for i in range(X.shape[1])],\n",
    "              index=X.columns).reset_index()\n",
    "vif_df.columns = ['feature','vif_score']\n",
    "vif_df = vif_df.loc[vif_df.feature!='const']\n",
    "vif_df"
   ]
  },
  {
   "cell_type": "markdown",
   "id": "28843486-2c4b-4aeb-bca6-f457d84b71eb",
   "metadata": {
    "id": "28843486-2c4b-4aeb-bca6-f457d84b71eb"
   },
   "source": [
    "nox, dis, rad, tax have high vif score (>4)"
   ]
  },
  {
   "cell_type": "markdown",
   "id": "71e3b252-d25a-4cc5-8cd5-d055c45389be",
   "metadata": {
    "id": "71e3b252-d25a-4cc5-8cd5-d055c45389be"
   },
   "source": [
    "__Drop the high correlated Feature__\n",
    "\n",
    "dropping feature to decrease the high vif score"
   ]
  },
  {
   "cell_type": "code",
   "execution_count": 7,
   "id": "c4c3ec7c-6998-41ee-bc07-475dbdd49ea4",
   "metadata": {
    "id": "c4c3ec7c-6998-41ee-bc07-475dbdd49ea4"
   },
   "outputs": [],
   "source": [
    "feature_df_train = feature_df_train.drop(columns=['age','rad', 'dis'])\n",
    "feature_df_validation = feature_df_validation.drop(columns=['age','rad', 'dis'])\n",
    "feature_df_test = feature_df_test.drop(columns=['age','rad', 'dis'])"
   ]
  },
  {
   "cell_type": "markdown",
   "id": "f5495ec9-1586-4d19-91aa-26f9e5c205f2",
   "metadata": {
    "id": "f5495ec9-1586-4d19-91aa-26f9e5c205f2"
   },
   "source": [
    "__RE CHECKING__"
   ]
  },
  {
   "cell_type": "code",
   "execution_count": 8,
   "id": "ff85b023-fd4d-4833-97d7-cb6e6785ab6b",
   "metadata": {
    "id": "ff85b023-fd4d-4833-97d7-cb6e6785ab6b",
    "outputId": "4cb12ffd-cd51-4831-a17f-fefd2b8f26bc"
   },
   "outputs": [
    {
     "data": {
      "text/html": [
       "<div>\n",
       "<style scoped>\n",
       "    .dataframe tbody tr th:only-of-type {\n",
       "        vertical-align: middle;\n",
       "    }\n",
       "\n",
       "    .dataframe tbody tr th {\n",
       "        vertical-align: top;\n",
       "    }\n",
       "\n",
       "    .dataframe thead th {\n",
       "        text-align: right;\n",
       "    }\n",
       "</style>\n",
       "<table border=\"1\" class=\"dataframe\">\n",
       "  <thead>\n",
       "    <tr style=\"text-align: right;\">\n",
       "      <th></th>\n",
       "      <th>feature</th>\n",
       "      <th>vif_score</th>\n",
       "    </tr>\n",
       "  </thead>\n",
       "  <tbody>\n",
       "    <tr>\n",
       "      <th>1</th>\n",
       "      <td>crim</td>\n",
       "      <td>1.589005</td>\n",
       "    </tr>\n",
       "    <tr>\n",
       "      <th>2</th>\n",
       "      <td>zn</td>\n",
       "      <td>1.807291</td>\n",
       "    </tr>\n",
       "    <tr>\n",
       "      <th>3</th>\n",
       "      <td>indus</td>\n",
       "      <td>3.268128</td>\n",
       "    </tr>\n",
       "    <tr>\n",
       "      <th>4</th>\n",
       "      <td>chas</td>\n",
       "      <td>1.096930</td>\n",
       "    </tr>\n",
       "    <tr>\n",
       "      <th>5</th>\n",
       "      <td>nox</td>\n",
       "      <td>3.711306</td>\n",
       "    </tr>\n",
       "    <tr>\n",
       "      <th>6</th>\n",
       "      <td>rm</td>\n",
       "      <td>1.749652</td>\n",
       "    </tr>\n",
       "    <tr>\n",
       "      <th>7</th>\n",
       "      <td>tax</td>\n",
       "      <td>3.155773</td>\n",
       "    </tr>\n",
       "    <tr>\n",
       "      <th>8</th>\n",
       "      <td>ptratio</td>\n",
       "      <td>1.784505</td>\n",
       "    </tr>\n",
       "    <tr>\n",
       "      <th>9</th>\n",
       "      <td>black</td>\n",
       "      <td>1.350174</td>\n",
       "    </tr>\n",
       "    <tr>\n",
       "      <th>10</th>\n",
       "      <td>lstat</td>\n",
       "      <td>2.654660</td>\n",
       "    </tr>\n",
       "  </tbody>\n",
       "</table>\n",
       "</div>"
      ],
      "text/plain": [
       "    feature  vif_score\n",
       "1      crim   1.589005\n",
       "2        zn   1.807291\n",
       "3     indus   3.268128\n",
       "4      chas   1.096930\n",
       "5       nox   3.711306\n",
       "6        rm   1.749652\n",
       "7       tax   3.155773\n",
       "8   ptratio   1.784505\n",
       "9     black   1.350174\n",
       "10    lstat   2.654660"
      ]
     },
     "execution_count": 8,
     "metadata": {},
     "output_type": "execute_result"
    }
   ],
   "source": [
    "# calculate VIF scores for each feature\n",
    "from statsmodels.stats.outliers_influence import variance_inflation_factor as vif\n",
    "from statsmodels.tools.tools import add_constant\n",
    "\n",
    "X = add_constant(feature_df_train)\n",
    "\n",
    "vif_df = pd.DataFrame([vif(X.values, i)\n",
    "               for i in range(X.shape[1])],\n",
    "              index=X.columns).reset_index()\n",
    "vif_df.columns = ['feature','vif_score']\n",
    "vif_df = vif_df.loc[vif_df.feature!='const']\n",
    "vif_df"
   ]
  },
  {
   "cell_type": "markdown",
   "id": "0eaf3445-440d-416c-9601-ab103b82875a",
   "metadata": {
    "id": "0eaf3445-440d-416c-9601-ab103b82875a"
   },
   "source": [
    "Now, the vif score looks good (<4)"
   ]
  },
  {
   "cell_type": "markdown",
   "id": "a1b3fe4e-3693-47ef-bc93-3d63ac28ae1f",
   "metadata": {
    "id": "a1b3fe4e-3693-47ef-bc93-3d63ac28ae1f"
   },
   "source": [
    "## Training Ridge and Lasso Model"
   ]
  },
  {
   "cell_type": "markdown",
   "id": "ca683aa8-2639-4418-8459-026d31993525",
   "metadata": {
    "id": "ca683aa8-2639-4418-8459-026d31993525"
   },
   "source": [
    "__Training Ridge Regression Model__"
   ]
  },
  {
   "cell_type": "code",
   "execution_count": 11,
   "id": "868c3083-8ecc-42a7-ad50-b50d78fb90e6",
   "metadata": {
    "id": "868c3083-8ecc-42a7-ad50-b50d78fb90e6",
    "outputId": "db41ebc2-3f78-4089-8c85-3663bed37667"
   },
   "outputs": [
    {
     "data": {
      "text/html": [
       "<style>#sk-container-id-2 {color: black;background-color: white;}#sk-container-id-2 pre{padding: 0;}#sk-container-id-2 div.sk-toggleable {background-color: white;}#sk-container-id-2 label.sk-toggleable__label {cursor: pointer;display: block;width: 100%;margin-bottom: 0;padding: 0.3em;box-sizing: border-box;text-align: center;}#sk-container-id-2 label.sk-toggleable__label-arrow:before {content: \"▸\";float: left;margin-right: 0.25em;color: #696969;}#sk-container-id-2 label.sk-toggleable__label-arrow:hover:before {color: black;}#sk-container-id-2 div.sk-estimator:hover label.sk-toggleable__label-arrow:before {color: black;}#sk-container-id-2 div.sk-toggleable__content {max-height: 0;max-width: 0;overflow: hidden;text-align: left;background-color: #f0f8ff;}#sk-container-id-2 div.sk-toggleable__content pre {margin: 0.2em;color: black;border-radius: 0.25em;background-color: #f0f8ff;}#sk-container-id-2 input.sk-toggleable__control:checked~div.sk-toggleable__content {max-height: 200px;max-width: 100%;overflow: auto;}#sk-container-id-2 input.sk-toggleable__control:checked~label.sk-toggleable__label-arrow:before {content: \"▾\";}#sk-container-id-2 div.sk-estimator input.sk-toggleable__control:checked~label.sk-toggleable__label {background-color: #d4ebff;}#sk-container-id-2 div.sk-label input.sk-toggleable__control:checked~label.sk-toggleable__label {background-color: #d4ebff;}#sk-container-id-2 input.sk-hidden--visually {border: 0;clip: rect(1px 1px 1px 1px);clip: rect(1px, 1px, 1px, 1px);height: 1px;margin: -1px;overflow: hidden;padding: 0;position: absolute;width: 1px;}#sk-container-id-2 div.sk-estimator {font-family: monospace;background-color: #f0f8ff;border: 1px dotted black;border-radius: 0.25em;box-sizing: border-box;margin-bottom: 0.5em;}#sk-container-id-2 div.sk-estimator:hover {background-color: #d4ebff;}#sk-container-id-2 div.sk-parallel-item::after {content: \"\";width: 100%;border-bottom: 1px solid gray;flex-grow: 1;}#sk-container-id-2 div.sk-label:hover label.sk-toggleable__label {background-color: #d4ebff;}#sk-container-id-2 div.sk-serial::before {content: \"\";position: absolute;border-left: 1px solid gray;box-sizing: border-box;top: 0;bottom: 0;left: 50%;z-index: 0;}#sk-container-id-2 div.sk-serial {display: flex;flex-direction: column;align-items: center;background-color: white;padding-right: 0.2em;padding-left: 0.2em;position: relative;}#sk-container-id-2 div.sk-item {position: relative;z-index: 1;}#sk-container-id-2 div.sk-parallel {display: flex;align-items: stretch;justify-content: center;background-color: white;position: relative;}#sk-container-id-2 div.sk-item::before, #sk-container-id-2 div.sk-parallel-item::before {content: \"\";position: absolute;border-left: 1px solid gray;box-sizing: border-box;top: 0;bottom: 0;left: 50%;z-index: -1;}#sk-container-id-2 div.sk-parallel-item {display: flex;flex-direction: column;z-index: 1;position: relative;background-color: white;}#sk-container-id-2 div.sk-parallel-item:first-child::after {align-self: flex-end;width: 50%;}#sk-container-id-2 div.sk-parallel-item:last-child::after {align-self: flex-start;width: 50%;}#sk-container-id-2 div.sk-parallel-item:only-child::after {width: 0;}#sk-container-id-2 div.sk-dashed-wrapped {border: 1px dashed gray;margin: 0 0.4em 0.5em 0.4em;box-sizing: border-box;padding-bottom: 0.4em;background-color: white;}#sk-container-id-2 div.sk-label label {font-family: monospace;font-weight: bold;display: inline-block;line-height: 1.2em;}#sk-container-id-2 div.sk-label-container {text-align: center;}#sk-container-id-2 div.sk-container {/* jupyter's `normalize.less` sets `[hidden] { display: none; }` but bootstrap.min.css set `[hidden] { display: none !important; }` so we also need the `!important` here to be able to override the default hidden behavior on the sphinx rendered scikit-learn.org. See: https://github.com/scikit-learn/scikit-learn/issues/21755 */display: inline-block !important;position: relative;}#sk-container-id-2 div.sk-text-repr-fallback {display: none;}</style><div id=\"sk-container-id-2\" class=\"sk-top-container\"><div class=\"sk-text-repr-fallback\"><pre>Ridge(alpha=0.1, random_state=42)</pre><b>In a Jupyter environment, please rerun this cell to show the HTML representation or trust the notebook. <br />On GitHub, the HTML representation is unable to render, please try loading this page with nbviewer.org.</b></div><div class=\"sk-container\" hidden><div class=\"sk-item\"><div class=\"sk-estimator sk-toggleable\"><input class=\"sk-toggleable__control sk-hidden--visually\" id=\"sk-estimator-id-2\" type=\"checkbox\" checked><label for=\"sk-estimator-id-2\" class=\"sk-toggleable__label sk-toggleable__label-arrow\">Ridge</label><div class=\"sk-toggleable__content\"><pre>Ridge(alpha=0.1, random_state=42)</pre></div></div></div></div></div>"
      ],
      "text/plain": [
       "Ridge(alpha=0.1, random_state=42)"
      ]
     },
     "execution_count": 11,
     "metadata": {},
     "output_type": "execute_result"
    }
   ],
   "source": [
    "from sklearn.linear_model import Ridge\n",
    "\n",
    "# train the model\n",
    "X_df_train = feature_df_train.to_numpy()\n",
    "y_df_train = target_df_train.to_numpy()\n",
    "y_df_train = y_df_train.reshape(len(y_df_train),)\n",
    "\n",
    "# define the model\n",
    "ridge_reg = Ridge(alpha=0.1,\n",
    "                  random_state=42)\n",
    "\n",
    "ridge_reg.fit(X_df_train, y_df_train)"
   ]
  },
  {
   "cell_type": "markdown",
   "id": "55e9cf4a-a758-42fa-8c1f-b2233d7be9a9",
   "metadata": {
    "id": "55e9cf4a-a758-42fa-8c1f-b2233d7be9a9"
   },
   "source": [
    "__Interpreting the Obtained Model__"
   ]
  },
  {
   "cell_type": "code",
   "execution_count": 12,
   "id": "8c5730bf-5673-4b35-9a67-f6750f6cc97e",
   "metadata": {
    "id": "8c5730bf-5673-4b35-9a67-f6750f6cc97e",
    "outputId": "c7c6312d-87f1-4790-f21d-345a1af4a000"
   },
   "outputs": [
    {
     "data": {
      "text/html": [
       "<div>\n",
       "<style scoped>\n",
       "    .dataframe tbody tr th:only-of-type {\n",
       "        vertical-align: middle;\n",
       "    }\n",
       "\n",
       "    .dataframe tbody tr th {\n",
       "        vertical-align: top;\n",
       "    }\n",
       "\n",
       "    .dataframe thead th {\n",
       "        text-align: right;\n",
       "    }\n",
       "</style>\n",
       "<table border=\"1\" class=\"dataframe\">\n",
       "  <thead>\n",
       "    <tr style=\"text-align: right;\">\n",
       "      <th></th>\n",
       "      <th>feature</th>\n",
       "      <th>coefficient</th>\n",
       "    </tr>\n",
       "  </thead>\n",
       "  <tbody>\n",
       "    <tr>\n",
       "      <th>0</th>\n",
       "      <td>intercept</td>\n",
       "      <td>7.218843</td>\n",
       "    </tr>\n",
       "    <tr>\n",
       "      <th>1</th>\n",
       "      <td>crim</td>\n",
       "      <td>-0.048435</td>\n",
       "    </tr>\n",
       "    <tr>\n",
       "      <th>2</th>\n",
       "      <td>zn</td>\n",
       "      <td>-0.024588</td>\n",
       "    </tr>\n",
       "    <tr>\n",
       "      <th>3</th>\n",
       "      <td>indus</td>\n",
       "      <td>0.098273</td>\n",
       "    </tr>\n",
       "    <tr>\n",
       "      <th>4</th>\n",
       "      <td>chas</td>\n",
       "      <td>3.316370</td>\n",
       "    </tr>\n",
       "    <tr>\n",
       "      <th>5</th>\n",
       "      <td>nox</td>\n",
       "      <td>-6.873778</td>\n",
       "    </tr>\n",
       "    <tr>\n",
       "      <th>6</th>\n",
       "      <td>rm</td>\n",
       "      <td>5.744822</td>\n",
       "    </tr>\n",
       "    <tr>\n",
       "      <th>7</th>\n",
       "      <td>tax</td>\n",
       "      <td>0.000919</td>\n",
       "    </tr>\n",
       "    <tr>\n",
       "      <th>8</th>\n",
       "      <td>ptratio</td>\n",
       "      <td>-0.937877</td>\n",
       "    </tr>\n",
       "    <tr>\n",
       "      <th>9</th>\n",
       "      <td>black</td>\n",
       "      <td>0.012959</td>\n",
       "    </tr>\n",
       "    <tr>\n",
       "      <th>10</th>\n",
       "      <td>lstat</td>\n",
       "      <td>-0.445824</td>\n",
       "    </tr>\n",
       "  </tbody>\n",
       "</table>\n",
       "</div>"
      ],
      "text/plain": [
       "      feature  coefficient\n",
       "0   intercept     7.218843\n",
       "1        crim    -0.048435\n",
       "2          zn    -0.024588\n",
       "3       indus     0.098273\n",
       "4        chas     3.316370\n",
       "5         nox    -6.873778\n",
       "6          rm     5.744822\n",
       "7         tax     0.000919\n",
       "8     ptratio    -0.937877\n",
       "9       black     0.012959\n",
       "10      lstat    -0.445824"
      ]
     },
     "execution_count": 12,
     "metadata": {},
     "output_type": "execute_result"
    }
   ],
   "source": [
    "data = feature_df_train\n",
    "model = ridge_reg\n",
    "\n",
    "coef_df = pd.DataFrame({\n",
    "    'feature':['intercept'] + data.columns.tolist(),\n",
    "    'coefficient':[model.intercept_] + list(model.coef_)\n",
    "})\n",
    "\n",
    "coef_df"
   ]
  },
  {
   "cell_type": "markdown",
   "id": "721d3bba-0d63-42d6-916d-8117e356b97d",
   "metadata": {
    "id": "721d3bba-0d63-42d6-916d-8117e356b97d"
   },
   "source": [
    "An increase of 1 point in rm, while the other  features are kept fixed, is associated with a increase 5.7448221 point in medv"
   ]
  },
  {
   "cell_type": "markdown",
   "id": "a860cae1-acec-423c-a5b5-152c8784a150",
   "metadata": {
    "id": "a860cae1-acec-423c-a5b5-152c8784a150"
   },
   "source": [
    "__Training Lasso Regression Model__"
   ]
  },
  {
   "cell_type": "code",
   "execution_count": 13,
   "id": "ee3a8c39-3adc-41ef-b1e6-d17cf0622420",
   "metadata": {
    "id": "ee3a8c39-3adc-41ef-b1e6-d17cf0622420",
    "outputId": "63212688-6e87-4324-8b15-5e13c2689ae8"
   },
   "outputs": [
    {
     "data": {
      "text/html": [
       "<style>#sk-container-id-3 {color: black;background-color: white;}#sk-container-id-3 pre{padding: 0;}#sk-container-id-3 div.sk-toggleable {background-color: white;}#sk-container-id-3 label.sk-toggleable__label {cursor: pointer;display: block;width: 100%;margin-bottom: 0;padding: 0.3em;box-sizing: border-box;text-align: center;}#sk-container-id-3 label.sk-toggleable__label-arrow:before {content: \"▸\";float: left;margin-right: 0.25em;color: #696969;}#sk-container-id-3 label.sk-toggleable__label-arrow:hover:before {color: black;}#sk-container-id-3 div.sk-estimator:hover label.sk-toggleable__label-arrow:before {color: black;}#sk-container-id-3 div.sk-toggleable__content {max-height: 0;max-width: 0;overflow: hidden;text-align: left;background-color: #f0f8ff;}#sk-container-id-3 div.sk-toggleable__content pre {margin: 0.2em;color: black;border-radius: 0.25em;background-color: #f0f8ff;}#sk-container-id-3 input.sk-toggleable__control:checked~div.sk-toggleable__content {max-height: 200px;max-width: 100%;overflow: auto;}#sk-container-id-3 input.sk-toggleable__control:checked~label.sk-toggleable__label-arrow:before {content: \"▾\";}#sk-container-id-3 div.sk-estimator input.sk-toggleable__control:checked~label.sk-toggleable__label {background-color: #d4ebff;}#sk-container-id-3 div.sk-label input.sk-toggleable__control:checked~label.sk-toggleable__label {background-color: #d4ebff;}#sk-container-id-3 input.sk-hidden--visually {border: 0;clip: rect(1px 1px 1px 1px);clip: rect(1px, 1px, 1px, 1px);height: 1px;margin: -1px;overflow: hidden;padding: 0;position: absolute;width: 1px;}#sk-container-id-3 div.sk-estimator {font-family: monospace;background-color: #f0f8ff;border: 1px dotted black;border-radius: 0.25em;box-sizing: border-box;margin-bottom: 0.5em;}#sk-container-id-3 div.sk-estimator:hover {background-color: #d4ebff;}#sk-container-id-3 div.sk-parallel-item::after {content: \"\";width: 100%;border-bottom: 1px solid gray;flex-grow: 1;}#sk-container-id-3 div.sk-label:hover label.sk-toggleable__label {background-color: #d4ebff;}#sk-container-id-3 div.sk-serial::before {content: \"\";position: absolute;border-left: 1px solid gray;box-sizing: border-box;top: 0;bottom: 0;left: 50%;z-index: 0;}#sk-container-id-3 div.sk-serial {display: flex;flex-direction: column;align-items: center;background-color: white;padding-right: 0.2em;padding-left: 0.2em;position: relative;}#sk-container-id-3 div.sk-item {position: relative;z-index: 1;}#sk-container-id-3 div.sk-parallel {display: flex;align-items: stretch;justify-content: center;background-color: white;position: relative;}#sk-container-id-3 div.sk-item::before, #sk-container-id-3 div.sk-parallel-item::before {content: \"\";position: absolute;border-left: 1px solid gray;box-sizing: border-box;top: 0;bottom: 0;left: 50%;z-index: -1;}#sk-container-id-3 div.sk-parallel-item {display: flex;flex-direction: column;z-index: 1;position: relative;background-color: white;}#sk-container-id-3 div.sk-parallel-item:first-child::after {align-self: flex-end;width: 50%;}#sk-container-id-3 div.sk-parallel-item:last-child::after {align-self: flex-start;width: 50%;}#sk-container-id-3 div.sk-parallel-item:only-child::after {width: 0;}#sk-container-id-3 div.sk-dashed-wrapped {border: 1px dashed gray;margin: 0 0.4em 0.5em 0.4em;box-sizing: border-box;padding-bottom: 0.4em;background-color: white;}#sk-container-id-3 div.sk-label label {font-family: monospace;font-weight: bold;display: inline-block;line-height: 1.2em;}#sk-container-id-3 div.sk-label-container {text-align: center;}#sk-container-id-3 div.sk-container {/* jupyter's `normalize.less` sets `[hidden] { display: none; }` but bootstrap.min.css set `[hidden] { display: none !important; }` so we also need the `!important` here to be able to override the default hidden behavior on the sphinx rendered scikit-learn.org. See: https://github.com/scikit-learn/scikit-learn/issues/21755 */display: inline-block !important;position: relative;}#sk-container-id-3 div.sk-text-repr-fallback {display: none;}</style><div id=\"sk-container-id-3\" class=\"sk-top-container\"><div class=\"sk-text-repr-fallback\"><pre>Lasso(alpha=0.1, random_state=42)</pre><b>In a Jupyter environment, please rerun this cell to show the HTML representation or trust the notebook. <br />On GitHub, the HTML representation is unable to render, please try loading this page with nbviewer.org.</b></div><div class=\"sk-container\" hidden><div class=\"sk-item\"><div class=\"sk-estimator sk-toggleable\"><input class=\"sk-toggleable__control sk-hidden--visually\" id=\"sk-estimator-id-3\" type=\"checkbox\" checked><label for=\"sk-estimator-id-3\" class=\"sk-toggleable__label sk-toggleable__label-arrow\">Lasso</label><div class=\"sk-toggleable__content\"><pre>Lasso(alpha=0.1, random_state=42)</pre></div></div></div></div></div>"
      ],
      "text/plain": [
       "Lasso(alpha=0.1, random_state=42)"
      ]
     },
     "execution_count": 13,
     "metadata": {},
     "output_type": "execute_result"
    }
   ],
   "source": [
    "from sklearn.linear_model import Lasso\n",
    "\n",
    "# define the model\n",
    "lasso_reg = Lasso(alpha=0.1,\n",
    "                  random_state=42)\n",
    "\n",
    "lasso_reg.fit(X_df_train, y_df_train)"
   ]
  },
  {
   "cell_type": "markdown",
   "id": "05fd8912-e16f-4edd-9c4b-3fc5f1b508bf",
   "metadata": {
    "id": "05fd8912-e16f-4edd-9c4b-3fc5f1b508bf"
   },
   "source": [
    "__Interpreting the Obtained Model__"
   ]
  },
  {
   "cell_type": "code",
   "execution_count": 14,
   "id": "5e6c9a0c-97bb-4132-9217-e179b7fce653",
   "metadata": {
    "id": "5e6c9a0c-97bb-4132-9217-e179b7fce653",
    "outputId": "2d8bba92-1714-4bb3-b425-cc621ba2d09b"
   },
   "outputs": [
    {
     "data": {
      "text/html": [
       "<div>\n",
       "<style scoped>\n",
       "    .dataframe tbody tr th:only-of-type {\n",
       "        vertical-align: middle;\n",
       "    }\n",
       "\n",
       "    .dataframe tbody tr th {\n",
       "        vertical-align: top;\n",
       "    }\n",
       "\n",
       "    .dataframe thead th {\n",
       "        text-align: right;\n",
       "    }\n",
       "</style>\n",
       "<table border=\"1\" class=\"dataframe\">\n",
       "  <thead>\n",
       "    <tr style=\"text-align: right;\">\n",
       "      <th></th>\n",
       "      <th>feature</th>\n",
       "      <th>coefficient</th>\n",
       "    </tr>\n",
       "  </thead>\n",
       "  <tbody>\n",
       "    <tr>\n",
       "      <th>0</th>\n",
       "      <td>intercept</td>\n",
       "      <td>4.865178</td>\n",
       "    </tr>\n",
       "    <tr>\n",
       "      <th>1</th>\n",
       "      <td>crim</td>\n",
       "      <td>-0.048545</td>\n",
       "    </tr>\n",
       "    <tr>\n",
       "      <th>2</th>\n",
       "      <td>zn</td>\n",
       "      <td>-0.015768</td>\n",
       "    </tr>\n",
       "    <tr>\n",
       "      <th>3</th>\n",
       "      <td>indus</td>\n",
       "      <td>0.060463</td>\n",
       "    </tr>\n",
       "    <tr>\n",
       "      <th>4</th>\n",
       "      <td>chas</td>\n",
       "      <td>1.621034</td>\n",
       "    </tr>\n",
       "    <tr>\n",
       "      <th>5</th>\n",
       "      <td>nox</td>\n",
       "      <td>-0.000000</td>\n",
       "    </tr>\n",
       "    <tr>\n",
       "      <th>6</th>\n",
       "      <td>rm</td>\n",
       "      <td>5.461967</td>\n",
       "    </tr>\n",
       "    <tr>\n",
       "      <th>7</th>\n",
       "      <td>tax</td>\n",
       "      <td>-0.000393</td>\n",
       "    </tr>\n",
       "    <tr>\n",
       "      <th>8</th>\n",
       "      <td>ptratio</td>\n",
       "      <td>-0.844463</td>\n",
       "    </tr>\n",
       "    <tr>\n",
       "      <th>9</th>\n",
       "      <td>black</td>\n",
       "      <td>0.013381</td>\n",
       "    </tr>\n",
       "    <tr>\n",
       "      <th>10</th>\n",
       "      <td>lstat</td>\n",
       "      <td>-0.492102</td>\n",
       "    </tr>\n",
       "  </tbody>\n",
       "</table>\n",
       "</div>"
      ],
      "text/plain": [
       "      feature  coefficient\n",
       "0   intercept     4.865178\n",
       "1        crim    -0.048545\n",
       "2          zn    -0.015768\n",
       "3       indus     0.060463\n",
       "4        chas     1.621034\n",
       "5         nox    -0.000000\n",
       "6          rm     5.461967\n",
       "7         tax    -0.000393\n",
       "8     ptratio    -0.844463\n",
       "9       black     0.013381\n",
       "10      lstat    -0.492102"
      ]
     },
     "execution_count": 14,
     "metadata": {},
     "output_type": "execute_result"
    }
   ],
   "source": [
    "data = feature_df_train\n",
    "model = lasso_reg\n",
    "\n",
    "coef_df = pd.DataFrame({\n",
    "    'feature':['intercept'] + data.columns.tolist(),\n",
    "    'coefficient':[model.intercept_] + list(model.coef_)\n",
    "})\n",
    "\n",
    "coef_df"
   ]
  },
  {
   "cell_type": "markdown",
   "id": "7180f8ec-0583-415e-9f37-50277273d0b9",
   "metadata": {
    "id": "7180f8ec-0583-415e-9f37-50277273d0b9"
   },
   "source": [
    "An increase of 1 point in rm, while the other features are kept fixed, is associated with an increase 5.461967 point in medv"
   ]
  },
  {
   "cell_type": "markdown",
   "id": "42b883a1-5830-45c1-999e-b25523e8901a",
   "metadata": {
    "id": "42b883a1-5830-45c1-999e-b25523e8901a"
   },
   "source": [
    "## Choosing the best lambda for Ridge Regression and Lasso Regression"
   ]
  },
  {
   "cell_type": "markdown",
   "id": "de839872-254e-4dfb-89e9-0d42eda730b9",
   "metadata": {
    "id": "de839872-254e-4dfb-89e9-0d42eda730b9"
   },
   "source": [
    "__Train multiple model of Ridge Regression with diffrent lambda__"
   ]
  },
  {
   "cell_type": "code",
   "execution_count": 15,
   "id": "069aa018-5032-47ef-add4-4b1b218f2e87",
   "metadata": {
    "id": "069aa018-5032-47ef-add4-4b1b218f2e87",
    "outputId": "a4e3dbf1-3f95-4dd8-cec2-f818a6cd7831"
   },
   "outputs": [
    {
     "data": {
      "text/html": [
       "<style>#sk-container-id-4 {color: black;background-color: white;}#sk-container-id-4 pre{padding: 0;}#sk-container-id-4 div.sk-toggleable {background-color: white;}#sk-container-id-4 label.sk-toggleable__label {cursor: pointer;display: block;width: 100%;margin-bottom: 0;padding: 0.3em;box-sizing: border-box;text-align: center;}#sk-container-id-4 label.sk-toggleable__label-arrow:before {content: \"▸\";float: left;margin-right: 0.25em;color: #696969;}#sk-container-id-4 label.sk-toggleable__label-arrow:hover:before {color: black;}#sk-container-id-4 div.sk-estimator:hover label.sk-toggleable__label-arrow:before {color: black;}#sk-container-id-4 div.sk-toggleable__content {max-height: 0;max-width: 0;overflow: hidden;text-align: left;background-color: #f0f8ff;}#sk-container-id-4 div.sk-toggleable__content pre {margin: 0.2em;color: black;border-radius: 0.25em;background-color: #f0f8ff;}#sk-container-id-4 input.sk-toggleable__control:checked~div.sk-toggleable__content {max-height: 200px;max-width: 100%;overflow: auto;}#sk-container-id-4 input.sk-toggleable__control:checked~label.sk-toggleable__label-arrow:before {content: \"▾\";}#sk-container-id-4 div.sk-estimator input.sk-toggleable__control:checked~label.sk-toggleable__label {background-color: #d4ebff;}#sk-container-id-4 div.sk-label input.sk-toggleable__control:checked~label.sk-toggleable__label {background-color: #d4ebff;}#sk-container-id-4 input.sk-hidden--visually {border: 0;clip: rect(1px 1px 1px 1px);clip: rect(1px, 1px, 1px, 1px);height: 1px;margin: -1px;overflow: hidden;padding: 0;position: absolute;width: 1px;}#sk-container-id-4 div.sk-estimator {font-family: monospace;background-color: #f0f8ff;border: 1px dotted black;border-radius: 0.25em;box-sizing: border-box;margin-bottom: 0.5em;}#sk-container-id-4 div.sk-estimator:hover {background-color: #d4ebff;}#sk-container-id-4 div.sk-parallel-item::after {content: \"\";width: 100%;border-bottom: 1px solid gray;flex-grow: 1;}#sk-container-id-4 div.sk-label:hover label.sk-toggleable__label {background-color: #d4ebff;}#sk-container-id-4 div.sk-serial::before {content: \"\";position: absolute;border-left: 1px solid gray;box-sizing: border-box;top: 0;bottom: 0;left: 50%;z-index: 0;}#sk-container-id-4 div.sk-serial {display: flex;flex-direction: column;align-items: center;background-color: white;padding-right: 0.2em;padding-left: 0.2em;position: relative;}#sk-container-id-4 div.sk-item {position: relative;z-index: 1;}#sk-container-id-4 div.sk-parallel {display: flex;align-items: stretch;justify-content: center;background-color: white;position: relative;}#sk-container-id-4 div.sk-item::before, #sk-container-id-4 div.sk-parallel-item::before {content: \"\";position: absolute;border-left: 1px solid gray;box-sizing: border-box;top: 0;bottom: 0;left: 50%;z-index: -1;}#sk-container-id-4 div.sk-parallel-item {display: flex;flex-direction: column;z-index: 1;position: relative;background-color: white;}#sk-container-id-4 div.sk-parallel-item:first-child::after {align-self: flex-end;width: 50%;}#sk-container-id-4 div.sk-parallel-item:last-child::after {align-self: flex-start;width: 50%;}#sk-container-id-4 div.sk-parallel-item:only-child::after {width: 0;}#sk-container-id-4 div.sk-dashed-wrapped {border: 1px dashed gray;margin: 0 0.4em 0.5em 0.4em;box-sizing: border-box;padding-bottom: 0.4em;background-color: white;}#sk-container-id-4 div.sk-label label {font-family: monospace;font-weight: bold;display: inline-block;line-height: 1.2em;}#sk-container-id-4 div.sk-label-container {text-align: center;}#sk-container-id-4 div.sk-container {/* jupyter's `normalize.less` sets `[hidden] { display: none; }` but bootstrap.min.css set `[hidden] { display: none !important; }` so we also need the `!important` here to be able to override the default hidden behavior on the sphinx rendered scikit-learn.org. See: https://github.com/scikit-learn/scikit-learn/issues/21755 */display: inline-block !important;position: relative;}#sk-container-id-4 div.sk-text-repr-fallback {display: none;}</style><div id=\"sk-container-id-4\" class=\"sk-top-container\"><div class=\"sk-text-repr-fallback\"><pre>Ridge(alpha=10, random_state=42)</pre><b>In a Jupyter environment, please rerun this cell to show the HTML representation or trust the notebook. <br />On GitHub, the HTML representation is unable to render, please try loading this page with nbviewer.org.</b></div><div class=\"sk-container\" hidden><div class=\"sk-item\"><div class=\"sk-estimator sk-toggleable\"><input class=\"sk-toggleable__control sk-hidden--visually\" id=\"sk-estimator-id-4\" type=\"checkbox\" checked><label for=\"sk-estimator-id-4\" class=\"sk-toggleable__label sk-toggleable__label-arrow\">Ridge</label><div class=\"sk-toggleable__content\"><pre>Ridge(alpha=10, random_state=42)</pre></div></div></div></div></div>"
      ],
      "text/plain": [
       "Ridge(alpha=10, random_state=42)"
      ]
     },
     "execution_count": 15,
     "metadata": {},
     "output_type": "execute_result"
    }
   ],
   "source": [
    "from sklearn.linear_model import Ridge\n",
    "\n",
    "# train the model\n",
    "X_df_train = feature_df_train.to_numpy()\n",
    "y_df_train = target_df_train.to_numpy()\n",
    "y_df_train = y_df_train.reshape(len(y_df_train),)\n",
    "\n",
    "# define the model\n",
    "# 4 models with 4 different alphas (lambda)\n",
    "ridge_reg_pointzeroone = Ridge(alpha=0.01, random_state=42)\n",
    "ridge_reg_pointone = Ridge(alpha=0.1, random_state=42)\n",
    "ridge_reg_one = Ridge(alpha=1, random_state=42)\n",
    "ridge_reg_ten = Ridge(alpha=10, random_state=42)\n",
    "\n",
    "# fit the model (training)\n",
    "ridge_reg_pointzeroone.fit(X_df_train, y_df_train)\n",
    "ridge_reg_pointone.fit(X_df_train, y_df_train)\n",
    "ridge_reg_one.fit(X_df_train, y_df_train)\n",
    "ridge_reg_ten.fit(X_df_train, y_df_train)"
   ]
  },
  {
   "cell_type": "markdown",
   "id": "25717e1a-d413-45c4-8b3a-d71ccf77655e",
   "metadata": {
    "id": "25717e1a-d413-45c4-8b3a-d71ccf77655e"
   },
   "source": [
    "__Find best model of ridge regression from validation set__"
   ]
  },
  {
   "cell_type": "code",
   "execution_count": 16,
   "id": "7ce15ddb-8566-42c0-af90-4d89f4fcf2e6",
   "metadata": {
    "id": "7ce15ddb-8566-42c0-af90-4d89f4fcf2e6",
    "outputId": "1d26faed-33dd-4247-96be-21dfae1f9ab7"
   },
   "outputs": [
    {
     "name": "stdout",
     "output_type": "stream",
     "text": [
      "RMSE of Ridge regression model with alpha = 0.01 is 5.098268420074665\n",
      "RMSE of Ridge regression model with alpha = 0.1 is 5.095403450801558\n",
      "RMSE of Ridge regression model with alpha = 1.0 is 5.080605055050947\n",
      "RMSE of Ridge regression model with alpha = 10 is 5.025688234268093\n"
     ]
    }
   ],
   "source": [
    "from sklearn.metrics import mean_squared_error\n",
    "\n",
    "X_df_validation = feature_df_validation.to_numpy()\n",
    "y_df_validation = target_df_validation.to_numpy()\n",
    "y_df_validation = y_df_validation.reshape(len(y_df_validation),)\n",
    "\n",
    "alphas = [0.01, 0.1, 1., 10]\n",
    "models = [ridge_reg_pointzeroone,\n",
    "          ridge_reg_pointone,\n",
    "          ridge_reg_one,\n",
    "          ridge_reg_ten]\n",
    "\n",
    "for model, alpha in zip(models, alphas):\n",
    "    y_predict_validation = model.predict(X_df_validation)\n",
    "    rmse = np.sqrt(mean_squared_error(y_df_validation,y_predict_validation))\n",
    "    print(f'RMSE of Ridge regression model with alpha = {alpha} is {rmse}')"
   ]
  },
  {
   "cell_type": "markdown",
   "id": "88df9f47-c71e-4945-957d-539cfda4b9fa",
   "metadata": {
    "id": "88df9f47-c71e-4945-957d-539cfda4b9fa"
   },
   "source": [
    "We can see that Ridge with alpha=10 has the smallest RMSE --> The best model"
   ]
  },
  {
   "cell_type": "markdown",
   "id": "70c1f578-e6aa-41a1-b3db-22ffab98e836",
   "metadata": {
    "id": "70c1f578-e6aa-41a1-b3db-22ffab98e836"
   },
   "source": [
    "__Coefficient of the best lasso regression model with lambda__"
   ]
  },
  {
   "cell_type": "markdown",
   "id": "49c31d47-5c18-4766-a16b-3e7b01f42daf",
   "metadata": {
    "id": "49c31d47-5c18-4766-a16b-3e7b01f42daf"
   },
   "source": [
    "Choose the smallest value based on RMSE"
   ]
  },
  {
   "cell_type": "code",
   "execution_count": 17,
   "id": "ba38867c-c25d-4d22-8c3a-97687c13d092",
   "metadata": {
    "id": "ba38867c-c25d-4d22-8c3a-97687c13d092",
    "outputId": "b2aaf91c-b991-4556-8f6c-a489300deaee"
   },
   "outputs": [
    {
     "data": {
      "text/html": [
       "<div>\n",
       "<style scoped>\n",
       "    .dataframe tbody tr th:only-of-type {\n",
       "        vertical-align: middle;\n",
       "    }\n",
       "\n",
       "    .dataframe tbody tr th {\n",
       "        vertical-align: top;\n",
       "    }\n",
       "\n",
       "    .dataframe thead th {\n",
       "        text-align: right;\n",
       "    }\n",
       "</style>\n",
       "<table border=\"1\" class=\"dataframe\">\n",
       "  <thead>\n",
       "    <tr style=\"text-align: right;\">\n",
       "      <th></th>\n",
       "      <th>feature</th>\n",
       "      <th>coefficient</th>\n",
       "    </tr>\n",
       "  </thead>\n",
       "  <tbody>\n",
       "    <tr>\n",
       "      <th>0</th>\n",
       "      <td>intercept</td>\n",
       "      <td>7.540114</td>\n",
       "    </tr>\n",
       "    <tr>\n",
       "      <th>1</th>\n",
       "      <td>crim</td>\n",
       "      <td>-0.048509</td>\n",
       "    </tr>\n",
       "    <tr>\n",
       "      <th>2</th>\n",
       "      <td>zn</td>\n",
       "      <td>-0.017210</td>\n",
       "    </tr>\n",
       "    <tr>\n",
       "      <th>3</th>\n",
       "      <td>indus</td>\n",
       "      <td>0.062253</td>\n",
       "    </tr>\n",
       "    <tr>\n",
       "      <th>4</th>\n",
       "      <td>chas</td>\n",
       "      <td>2.158150</td>\n",
       "    </tr>\n",
       "    <tr>\n",
       "      <th>5</th>\n",
       "      <td>nox</td>\n",
       "      <td>-0.690866</td>\n",
       "    </tr>\n",
       "    <tr>\n",
       "      <th>6</th>\n",
       "      <td>rm</td>\n",
       "      <td>5.221478</td>\n",
       "    </tr>\n",
       "    <tr>\n",
       "      <th>7</th>\n",
       "      <td>tax</td>\n",
       "      <td>-0.000087</td>\n",
       "    </tr>\n",
       "    <tr>\n",
       "      <th>8</th>\n",
       "      <td>ptratio</td>\n",
       "      <td>-0.881094</td>\n",
       "    </tr>\n",
       "    <tr>\n",
       "      <th>9</th>\n",
       "      <td>black</td>\n",
       "      <td>0.013078</td>\n",
       "    </tr>\n",
       "    <tr>\n",
       "      <th>10</th>\n",
       "      <td>lstat</td>\n",
       "      <td>-0.504826</td>\n",
       "    </tr>\n",
       "  </tbody>\n",
       "</table>\n",
       "</div>"
      ],
      "text/plain": [
       "      feature  coefficient\n",
       "0   intercept     7.540114\n",
       "1        crim    -0.048509\n",
       "2          zn    -0.017210\n",
       "3       indus     0.062253\n",
       "4        chas     2.158150\n",
       "5         nox    -0.690866\n",
       "6          rm     5.221478\n",
       "7         tax    -0.000087\n",
       "8     ptratio    -0.881094\n",
       "9       black     0.013078\n",
       "10      lstat    -0.504826"
      ]
     },
     "execution_count": 17,
     "metadata": {},
     "output_type": "execute_result"
    }
   ],
   "source": [
    "ridge_best = ridge_reg_ten\n",
    "\n",
    "coef_df = pd.DataFrame({\n",
    "    'feature':['intercept'] + feature_df_train.columns.tolist(),\n",
    "    'coefficient':[ridge_best.intercept_] + list(ridge_best.coef_)\n",
    "})\n",
    "\n",
    "coef_df"
   ]
  },
  {
   "cell_type": "markdown",
   "id": "d6267736-2225-4549-9a85-d810d4037e46",
   "metadata": {
    "id": "d6267736-2225-4549-9a85-d810d4037e46"
   },
   "source": [
    "An increase of 1 point in rm, while the other features are kept fixed, is associated with an increase 5.221478 point in medv"
   ]
  },
  {
   "cell_type": "markdown",
   "id": "df8a01b2-b5c6-4281-bffe-6cfb0f1d373b",
   "metadata": {
    "id": "df8a01b2-b5c6-4281-bffe-6cfb0f1d373b"
   },
   "source": [
    "__Train multiple model of Lasso Regression with diffrent lambda__"
   ]
  },
  {
   "cell_type": "code",
   "execution_count": 18,
   "id": "3ce9bdea-31ed-4e1a-a6e4-7665e4219dcc",
   "metadata": {
    "id": "3ce9bdea-31ed-4e1a-a6e4-7665e4219dcc",
    "outputId": "23a5c730-ed44-4575-f5ff-cd8eb62733fe"
   },
   "outputs": [
    {
     "data": {
      "text/html": [
       "<style>#sk-container-id-5 {color: black;background-color: white;}#sk-container-id-5 pre{padding: 0;}#sk-container-id-5 div.sk-toggleable {background-color: white;}#sk-container-id-5 label.sk-toggleable__label {cursor: pointer;display: block;width: 100%;margin-bottom: 0;padding: 0.3em;box-sizing: border-box;text-align: center;}#sk-container-id-5 label.sk-toggleable__label-arrow:before {content: \"▸\";float: left;margin-right: 0.25em;color: #696969;}#sk-container-id-5 label.sk-toggleable__label-arrow:hover:before {color: black;}#sk-container-id-5 div.sk-estimator:hover label.sk-toggleable__label-arrow:before {color: black;}#sk-container-id-5 div.sk-toggleable__content {max-height: 0;max-width: 0;overflow: hidden;text-align: left;background-color: #f0f8ff;}#sk-container-id-5 div.sk-toggleable__content pre {margin: 0.2em;color: black;border-radius: 0.25em;background-color: #f0f8ff;}#sk-container-id-5 input.sk-toggleable__control:checked~div.sk-toggleable__content {max-height: 200px;max-width: 100%;overflow: auto;}#sk-container-id-5 input.sk-toggleable__control:checked~label.sk-toggleable__label-arrow:before {content: \"▾\";}#sk-container-id-5 div.sk-estimator input.sk-toggleable__control:checked~label.sk-toggleable__label {background-color: #d4ebff;}#sk-container-id-5 div.sk-label input.sk-toggleable__control:checked~label.sk-toggleable__label {background-color: #d4ebff;}#sk-container-id-5 input.sk-hidden--visually {border: 0;clip: rect(1px 1px 1px 1px);clip: rect(1px, 1px, 1px, 1px);height: 1px;margin: -1px;overflow: hidden;padding: 0;position: absolute;width: 1px;}#sk-container-id-5 div.sk-estimator {font-family: monospace;background-color: #f0f8ff;border: 1px dotted black;border-radius: 0.25em;box-sizing: border-box;margin-bottom: 0.5em;}#sk-container-id-5 div.sk-estimator:hover {background-color: #d4ebff;}#sk-container-id-5 div.sk-parallel-item::after {content: \"\";width: 100%;border-bottom: 1px solid gray;flex-grow: 1;}#sk-container-id-5 div.sk-label:hover label.sk-toggleable__label {background-color: #d4ebff;}#sk-container-id-5 div.sk-serial::before {content: \"\";position: absolute;border-left: 1px solid gray;box-sizing: border-box;top: 0;bottom: 0;left: 50%;z-index: 0;}#sk-container-id-5 div.sk-serial {display: flex;flex-direction: column;align-items: center;background-color: white;padding-right: 0.2em;padding-left: 0.2em;position: relative;}#sk-container-id-5 div.sk-item {position: relative;z-index: 1;}#sk-container-id-5 div.sk-parallel {display: flex;align-items: stretch;justify-content: center;background-color: white;position: relative;}#sk-container-id-5 div.sk-item::before, #sk-container-id-5 div.sk-parallel-item::before {content: \"\";position: absolute;border-left: 1px solid gray;box-sizing: border-box;top: 0;bottom: 0;left: 50%;z-index: -1;}#sk-container-id-5 div.sk-parallel-item {display: flex;flex-direction: column;z-index: 1;position: relative;background-color: white;}#sk-container-id-5 div.sk-parallel-item:first-child::after {align-self: flex-end;width: 50%;}#sk-container-id-5 div.sk-parallel-item:last-child::after {align-self: flex-start;width: 50%;}#sk-container-id-5 div.sk-parallel-item:only-child::after {width: 0;}#sk-container-id-5 div.sk-dashed-wrapped {border: 1px dashed gray;margin: 0 0.4em 0.5em 0.4em;box-sizing: border-box;padding-bottom: 0.4em;background-color: white;}#sk-container-id-5 div.sk-label label {font-family: monospace;font-weight: bold;display: inline-block;line-height: 1.2em;}#sk-container-id-5 div.sk-label-container {text-align: center;}#sk-container-id-5 div.sk-container {/* jupyter's `normalize.less` sets `[hidden] { display: none; }` but bootstrap.min.css set `[hidden] { display: none !important; }` so we also need the `!important` here to be able to override the default hidden behavior on the sphinx rendered scikit-learn.org. See: https://github.com/scikit-learn/scikit-learn/issues/21755 */display: inline-block !important;position: relative;}#sk-container-id-5 div.sk-text-repr-fallback {display: none;}</style><div id=\"sk-container-id-5\" class=\"sk-top-container\"><div class=\"sk-text-repr-fallback\"><pre>Lasso(alpha=10, random_state=42)</pre><b>In a Jupyter environment, please rerun this cell to show the HTML representation or trust the notebook. <br />On GitHub, the HTML representation is unable to render, please try loading this page with nbviewer.org.</b></div><div class=\"sk-container\" hidden><div class=\"sk-item\"><div class=\"sk-estimator sk-toggleable\"><input class=\"sk-toggleable__control sk-hidden--visually\" id=\"sk-estimator-id-5\" type=\"checkbox\" checked><label for=\"sk-estimator-id-5\" class=\"sk-toggleable__label sk-toggleable__label-arrow\">Lasso</label><div class=\"sk-toggleable__content\"><pre>Lasso(alpha=10, random_state=42)</pre></div></div></div></div></div>"
      ],
      "text/plain": [
       "Lasso(alpha=10, random_state=42)"
      ]
     },
     "execution_count": 18,
     "metadata": {},
     "output_type": "execute_result"
    }
   ],
   "source": [
    "from sklearn.linear_model import Lasso\n",
    "\n",
    "# train the model\n",
    "X_df_train = feature_df_train.to_numpy()\n",
    "y_df_train = target_df_train.to_numpy()\n",
    "y_df_train = y_df_train.reshape(len(y_df_train),)\n",
    "\n",
    "# define the model\n",
    "# 4 models with 4 different alphas (lambda)\n",
    "lasso_reg_pointzeroone = Lasso(alpha=0.01, random_state=42)\n",
    "lasso_reg_pointone = Lasso(alpha=0.1, random_state=42)\n",
    "lasso_reg_one = Lasso(alpha=1, random_state=42)\n",
    "lasso_reg_ten = Lasso(alpha=10, random_state=42)\n",
    "\n",
    "# fit the model (training)\n",
    "lasso_reg_pointzeroone.fit(X_df_train, y_df_train)\n",
    "lasso_reg_pointone.fit(X_df_train, y_df_train)\n",
    "lasso_reg_one.fit(X_df_train, y_df_train)\n",
    "lasso_reg_ten.fit(X_df_train, y_df_train)"
   ]
  },
  {
   "cell_type": "markdown",
   "id": "5128870a-2dab-4e3d-990c-04d9fe457737",
   "metadata": {
    "id": "5128870a-2dab-4e3d-990c-04d9fe457737"
   },
   "source": [
    "__Find best model of lasso regression from validation set__"
   ]
  },
  {
   "cell_type": "code",
   "execution_count": 19,
   "id": "761dc95b-e6d7-4382-9a33-0ba5a1aa9dc8",
   "metadata": {
    "id": "761dc95b-e6d7-4382-9a33-0ba5a1aa9dc8",
    "outputId": "379f6244-6388-42a3-e839-d172a1fb5a91"
   },
   "outputs": [
    {
     "name": "stdout",
     "output_type": "stream",
     "text": [
      "RMSE of Lasso regression model with alpha = 0.01 is 5.085135239272938\n",
      "RMSE of Lasso regression model with alpha = 0.1 is 5.059655909413482\n",
      "RMSE of Lasso regression model with alpha = 1.0 is 4.8846734459521866\n",
      "RMSE of Lasso regression model with alpha = 10 is 5.433081529718637\n"
     ]
    }
   ],
   "source": [
    "from sklearn.metrics import mean_squared_error\n",
    "\n",
    "X_df_validation = feature_df_validation.to_numpy()\n",
    "y_df_validation = target_df_validation.to_numpy()\n",
    "y_df_validation = y_df_validation.reshape(len(y_df_validation),)\n",
    "\n",
    "alphas = [0.01, 0.1, 1., 10]\n",
    "models = [lasso_reg_pointzeroone,\n",
    "          lasso_reg_pointone,\n",
    "          lasso_reg_one,\n",
    "          lasso_reg_ten]\n",
    "\n",
    "for model, alpha in zip(models, alphas):\n",
    "    y_predict_validation = model.predict(X_df_validation)\n",
    "    rmse = np.sqrt(mean_squared_error(y_df_validation,y_predict_validation))\n",
    "    print(f'RMSE of Lasso regression model with alpha = {alpha} is {rmse}')"
   ]
  },
  {
   "cell_type": "markdown",
   "id": "1ac44a23-bbf0-4d2a-8453-3ba2ca4cb9df",
   "metadata": {
    "id": "1ac44a23-bbf0-4d2a-8453-3ba2ca4cb9df"
   },
   "source": [
    "We can see that Lasso with alpha=1.0 has the smallest RMSE --> The best model"
   ]
  },
  {
   "cell_type": "markdown",
   "id": "81c657e2-73e9-47b7-b74c-b0079165d28e",
   "metadata": {
    "id": "81c657e2-73e9-47b7-b74c-b0079165d28e"
   },
   "source": [
    "__Coefficient of the best lasso regression model with lambda__"
   ]
  },
  {
   "cell_type": "markdown",
   "id": "32db0764-d9b8-4bea-9794-eb217f2787ac",
   "metadata": {
    "id": "32db0764-d9b8-4bea-9794-eb217f2787ac"
   },
   "source": [
    "Choose the smallest value based on RMSE"
   ]
  },
  {
   "cell_type": "code",
   "execution_count": 20,
   "id": "fbc93eae-e62a-4191-a2bf-ed570d20dae2",
   "metadata": {
    "id": "fbc93eae-e62a-4191-a2bf-ed570d20dae2",
    "outputId": "0f69ce0f-ce30-4806-fd33-b0aea333e482"
   },
   "outputs": [
    {
     "data": {
      "text/html": [
       "<div>\n",
       "<style scoped>\n",
       "    .dataframe tbody tr th:only-of-type {\n",
       "        vertical-align: middle;\n",
       "    }\n",
       "\n",
       "    .dataframe tbody tr th {\n",
       "        vertical-align: top;\n",
       "    }\n",
       "\n",
       "    .dataframe thead th {\n",
       "        text-align: right;\n",
       "    }\n",
       "</style>\n",
       "<table border=\"1\" class=\"dataframe\">\n",
       "  <thead>\n",
       "    <tr style=\"text-align: right;\">\n",
       "      <th></th>\n",
       "      <th>feature</th>\n",
       "      <th>coefficient</th>\n",
       "    </tr>\n",
       "  </thead>\n",
       "  <tbody>\n",
       "    <tr>\n",
       "      <th>0</th>\n",
       "      <td>intercept</td>\n",
       "      <td>22.909724</td>\n",
       "    </tr>\n",
       "    <tr>\n",
       "      <th>1</th>\n",
       "      <td>crim</td>\n",
       "      <td>-0.028972</td>\n",
       "    </tr>\n",
       "    <tr>\n",
       "      <th>2</th>\n",
       "      <td>zn</td>\n",
       "      <td>-0.015200</td>\n",
       "    </tr>\n",
       "    <tr>\n",
       "      <th>3</th>\n",
       "      <td>indus</td>\n",
       "      <td>0.002053</td>\n",
       "    </tr>\n",
       "    <tr>\n",
       "      <th>4</th>\n",
       "      <td>chas</td>\n",
       "      <td>0.000000</td>\n",
       "    </tr>\n",
       "    <tr>\n",
       "      <th>5</th>\n",
       "      <td>nox</td>\n",
       "      <td>0.000000</td>\n",
       "    </tr>\n",
       "    <tr>\n",
       "      <th>6</th>\n",
       "      <td>rm</td>\n",
       "      <td>2.941434</td>\n",
       "    </tr>\n",
       "    <tr>\n",
       "      <th>7</th>\n",
       "      <td>tax</td>\n",
       "      <td>0.000029</td>\n",
       "    </tr>\n",
       "    <tr>\n",
       "      <th>8</th>\n",
       "      <td>ptratio</td>\n",
       "      <td>-0.805970</td>\n",
       "    </tr>\n",
       "    <tr>\n",
       "      <th>9</th>\n",
       "      <td>black</td>\n",
       "      <td>0.011680</td>\n",
       "    </tr>\n",
       "    <tr>\n",
       "      <th>10</th>\n",
       "      <td>lstat</td>\n",
       "      <td>-0.627903</td>\n",
       "    </tr>\n",
       "  </tbody>\n",
       "</table>\n",
       "</div>"
      ],
      "text/plain": [
       "      feature  coefficient\n",
       "0   intercept    22.909724\n",
       "1        crim    -0.028972\n",
       "2          zn    -0.015200\n",
       "3       indus     0.002053\n",
       "4        chas     0.000000\n",
       "5         nox     0.000000\n",
       "6          rm     2.941434\n",
       "7         tax     0.000029\n",
       "8     ptratio    -0.805970\n",
       "9       black     0.011680\n",
       "10      lstat    -0.627903"
      ]
     },
     "execution_count": 20,
     "metadata": {},
     "output_type": "execute_result"
    }
   ],
   "source": [
    "lasso_best = lasso_reg_one\n",
    "\n",
    "coef_df = pd.DataFrame({\n",
    "    'feature':['intercept'] + feature_df_train.columns.tolist(),\n",
    "    'coefficient':[lasso_best.intercept_] + list(lasso_best.coef_)\n",
    "})\n",
    "\n",
    "coef_df"
   ]
  },
  {
   "cell_type": "markdown",
   "id": "47526f5f-67d0-4f45-9c71-c3e316916538",
   "metadata": {
    "id": "47526f5f-67d0-4f45-9c71-c3e316916538"
   },
   "source": [
    "An increase of 1 point in rm, while the other features are kept fixed, is associated with an increase 2.941434 point in medv"
   ]
  },
  {
   "cell_type": "markdown",
   "id": "1e67edd8-aa99-442f-b2af-538005f48061",
   "metadata": {
    "id": "1e67edd8-aa99-442f-b2af-538005f48061"
   },
   "source": [
    "## Diagnostic Model"
   ]
  },
  {
   "cell_type": "markdown",
   "id": "69877978-f39f-45ef-a500-2d14a21dad9e",
   "metadata": {
    "id": "69877978-f39f-45ef-a500-2d14a21dad9e"
   },
   "source": [
    "__R-Squared for ridge regression model based on smallest RMSE__"
   ]
  },
  {
   "cell_type": "code",
   "execution_count": 21,
   "id": "a60bf4bc-030c-4c0c-a3c7-17d582ef2eca",
   "metadata": {
    "id": "a60bf4bc-030c-4c0c-a3c7-17d582ef2eca",
    "outputId": "b7bffe92-9d2d-4128-c44b-d48131c1493a"
   },
   "outputs": [
    {
     "name": "stdout",
     "output_type": "stream",
     "text": [
      "R-squared for training data is 0.7276321769842198\n"
     ]
    }
   ],
   "source": [
    "from sklearn.metrics import r2_score\n",
    "\n",
    "y_predict_train = ridge_best.predict(X_df_train)\n",
    "\n",
    "print('R-squared for training data is {}'.format(r2_score(y_df_train, y_predict_train)))"
   ]
  },
  {
   "cell_type": "markdown",
   "id": "610e7646-9bf0-4a07-b0e5-74a2c7756c57",
   "metadata": {
    "id": "610e7646-9bf0-4a07-b0e5-74a2c7756c57"
   },
   "source": [
    "R-squared training data is 72%! successfully explained (modelled)"
   ]
  },
  {
   "cell_type": "markdown",
   "id": "364bdd96-d1e0-48f6-ba3e-b5930bc237ba",
   "metadata": {
    "id": "364bdd96-d1e0-48f6-ba3e-b5930bc237ba"
   },
   "source": [
    "__R-Squared for lasso regression model based on smallest RMSE__"
   ]
  },
  {
   "cell_type": "code",
   "execution_count": 22,
   "id": "a5f3c5d8-d7e3-426c-8345-cab8c8e2bf17",
   "metadata": {
    "id": "a5f3c5d8-d7e3-426c-8345-cab8c8e2bf17",
    "outputId": "9c85f94c-6e7f-4e30-ea4b-b49657c69a7a"
   },
   "outputs": [
    {
     "name": "stdout",
     "output_type": "stream",
     "text": [
      "R-squared for training data is 0.6901461481238917\n"
     ]
    }
   ],
   "source": [
    "from sklearn.metrics import r2_score\n",
    "\n",
    "y_predict_train = lasso_best.predict(X_df_train)\n",
    "\n",
    "print('R-squared for training data is {}'.format(r2_score(y_df_train, y_predict_train)))"
   ]
  },
  {
   "cell_type": "markdown",
   "id": "74d1556d-6c32-428e-b99d-3cf5b5745322",
   "metadata": {
    "id": "74d1556d-6c32-428e-b99d-3cf5b5745322"
   },
   "source": [
    "R-squared training data is 69%! successfully explained (modelled)"
   ]
  },
  {
   "cell_type": "markdown",
   "id": "16a2c3fe-e4d3-4dad-b130-3daadc5b4263",
   "metadata": {
    "id": "16a2c3fe-e4d3-4dad-b130-3daadc5b4263"
   },
   "source": [
    "__Visualizing scatter plot to see residuals__"
   ]
  },
  {
   "cell_type": "code",
   "execution_count": 23,
   "id": "f7e424cf-eb16-4184-bea7-93e73bbac87e",
   "metadata": {
    "id": "f7e424cf-eb16-4184-bea7-93e73bbac87e",
    "outputId": "69133b26-1134-4b40-bbeb-c6101e10c7cb"
   },
   "outputs": [
    {
     "data": {
      "image/png": "[encoded data removed]",
      "text/plain": [
       "<Figure size 640x480 with 1 Axes>"
      ]
     },
     "metadata": {},
     "output_type": "display_data"
    }
   ],
   "source": [
    "# calculate residuals\n",
    "residual = y_df_train - y_predict_train\n",
    "\n",
    "# prepare dataframe\n",
    "# 1 predictor --> predictor VS residual\n",
    "df_resid = pd.DataFrame({\n",
    "    'predicted_value': y_predict_train,\n",
    "    'residual': residual\n",
    "})\n",
    "\n",
    "# residual plot\n",
    "sns.scatterplot(data=df_resid, x=\"predicted_value\", y=\"residual\")\n",
    "plt.axhline(0)\n",
    "plt.show()"
   ]
  },
  {
   "cell_type": "markdown",
   "id": "2070d456-f62b-4e89-87a2-6efca6928ce4",
   "metadata": {
    "id": "2070d456-f62b-4e89-87a2-6efca6928ce4"
   },
   "source": [
    "## Evaluate Model Performance"
   ]
  },
  {
   "cell_type": "markdown",
   "id": "dce45a9d-0530-448a-9fb2-be8e76b15a70",
   "metadata": {
    "id": "dce45a9d-0530-448a-9fb2-be8e76b15a70"
   },
   "source": [
    "__Evaluating training error for ridge regression with best lambda__"
   ]
  },
  {
   "cell_type": "code",
   "execution_count": 24,
   "id": "acee7664-151e-4fc4-b0f7-3ef636b20e19",
   "metadata": {
    "id": "acee7664-151e-4fc4-b0f7-3ef636b20e19"
   },
   "outputs": [],
   "source": [
    "y_predict_train = ridge_best.predict(X_df_train)"
   ]
  },
  {
   "cell_type": "code",
   "execution_count": 25,
   "id": "363bae6a-6f60-4741-a40e-a1211d9e3e8e",
   "metadata": {
    "id": "363bae6a-6f60-4741-a40e-a1211d9e3e8e",
    "outputId": "8bafcb2f-e6ea-47ce-9e74-9351d5ec6e36"
   },
   "outputs": [
    {
     "name": "stdout",
     "output_type": "stream",
     "text": [
      "RMSE for training data is 4.973805934214741\n",
      "MAE for training data is 3.5114230940990825\n",
      "MAPE for training data is 0.17331678984422316\n"
     ]
    }
   ],
   "source": [
    "from sklearn.metrics import mean_squared_error\n",
    "from sklearn.metrics import mean_absolute_error\n",
    "from sklearn.metrics import mean_absolute_percentage_error\n",
    "\n",
    "print('RMSE for training data is {}'.format(np.sqrt(mean_squared_error(y_df_train, y_predict_train))))\n",
    "print('MAE for training data is {}'.format(mean_absolute_error(y_df_train, y_predict_train)))\n",
    "print('MAPE for training data is {}'.format(mean_absolute_percentage_error(y_df_train, y_predict_train)))"
   ]
  },
  {
   "cell_type": "markdown",
   "id": "8a3af190-ede5-4121-8280-c25c08b5b2b6",
   "metadata": {
    "id": "8a3af190-ede5-4121-8280-c25c08b5b2b6"
   },
   "source": [
    "- The RMSE training error is good because RMSE value is low if we compare with target value\n",
    "- MAE and MAPE are good, because its under 20%, and we can say that the model is not underfitting"
   ]
  },
  {
   "cell_type": "markdown",
   "id": "0a4eeb7d-f9d7-4360-90e9-e9c6216ed5bf",
   "metadata": {
    "id": "0a4eeb7d-f9d7-4360-90e9-e9c6216ed5bf"
   },
   "source": [
    "__Evaluating training error for lasso regression with best lambda__"
   ]
  },
  {
   "cell_type": "code",
   "execution_count": 26,
   "id": "55e5fcf4-3ed7-4773-b858-d9792a05e049",
   "metadata": {
    "id": "55e5fcf4-3ed7-4773-b858-d9792a05e049"
   },
   "outputs": [],
   "source": [
    "y_predict_train = lasso_best.predict(X_df_train)"
   ]
  },
  {
   "cell_type": "code",
   "execution_count": 27,
   "id": "cab2c398-5e3d-4e92-ace3-f9a76e2f7125",
   "metadata": {
    "id": "cab2c398-5e3d-4e92-ace3-f9a76e2f7125",
    "outputId": "91ac2cb9-4836-4688-9ca4-7354a33276b5"
   },
   "outputs": [
    {
     "name": "stdout",
     "output_type": "stream",
     "text": [
      "RMSE for training data is 5.305048834092741\n",
      "MAE for training data is 3.7812526295995066\n",
      "MAPE for training data is 0.17632038279736764\n"
     ]
    }
   ],
   "source": [
    "from sklearn.metrics import mean_squared_error\n",
    "from sklearn.metrics import mean_absolute_error\n",
    "from sklearn.metrics import mean_absolute_percentage_error\n",
    "\n",
    "print('RMSE for training data is {}'.format(np.sqrt(mean_squared_error(y_df_train, y_predict_train))))\n",
    "print('MAE for training data is {}'.format(mean_absolute_error(y_df_train, y_predict_train)))\n",
    "print('MAPE for training data is {}'.format(mean_absolute_percentage_error(y_df_train, y_predict_train)))"
   ]
  },
  {
   "cell_type": "markdown",
   "id": "0120cba9-b7b5-4e73-bd09-3630c5f81102",
   "metadata": {
    "id": "0120cba9-b7b5-4e73-bd09-3630c5f81102"
   },
   "source": [
    "- The RMSE training error is good because RMSE value is low if we compare with the target value\n",
    "- MAE and MAPE training error are good, because its under 20%, but its lil bit higher (0.00349144869289972 gap) than ridge regression training error, and we can say this model is not underfitting"
   ]
  },
  {
   "cell_type": "markdown",
   "id": "264a4b60-d4c3-4283-a471-08289cf22b91",
   "metadata": {
    "id": "264a4b60-d4c3-4283-a471-08289cf22b91"
   },
   "source": [
    "__Evaluating testing error for ridge regression with best lambda__"
   ]
  },
  {
   "cell_type": "code",
   "execution_count": 28,
   "id": "4eb5bdb8-2821-44ca-9b4c-edc9f33d5ce0",
   "metadata": {
    "id": "4eb5bdb8-2821-44ca-9b4c-edc9f33d5ce0"
   },
   "outputs": [],
   "source": [
    "# prepare prediction result on test data\n",
    "X_df_test = feature_df_test.to_numpy()\n",
    "y_predict_test = ridge_best.predict(X_df_test)\n",
    "\n",
    "# ground truth target\n",
    "y_df_test = target_df_test.to_numpy()\n",
    "y_df_test = y_df_test.reshape(len(y_df_test),)"
   ]
  },
  {
   "cell_type": "code",
   "execution_count": 29,
   "id": "e61f2ab4-a104-4b40-9852-9fc4c146a5f6",
   "metadata": {
    "id": "e61f2ab4-a104-4b40-9852-9fc4c146a5f6",
    "outputId": "3694d2e4-7393-4393-d63e-7559dceaba6d"
   },
   "outputs": [
    {
     "name": "stdout",
     "output_type": "stream",
     "text": [
      "RMSE for testing data is 5.480676526334268\n",
      "MAE for testing data is 3.41071714995521\n",
      "MAPE for testing data is 0.1830930570916286\n"
     ]
    }
   ],
   "source": [
    "from sklearn.metrics import mean_squared_error\n",
    "from sklearn.metrics import mean_absolute_error\n",
    "from sklearn.metrics import mean_absolute_percentage_error\n",
    "\n",
    "print('RMSE for testing data is {}'.format(np.sqrt(mean_squared_error(y_df_test, y_predict_test))))\n",
    "print('MAE for testing data is {}'.format(mean_absolute_error(y_df_test, y_predict_test)))\n",
    "print('MAPE for testing data is {}'.format(mean_absolute_percentage_error(y_df_test, y_predict_test)))"
   ]
  },
  {
   "cell_type": "markdown",
   "id": "d3eca643-0b49-4bd6-91aa-c1deb292429d",
   "metadata": {
    "id": "d3eca643-0b49-4bd6-91aa-c1deb292429d"
   },
   "source": [
    "- The RMSE testing error is good because RMSE value is low if we compare with target value\n",
    "- MAE and MAPE are good, because its under 20%, -+ same with training training error (not overfitting), and we can say that the model Just Right"
   ]
  },
  {
   "cell_type": "markdown",
   "id": "c8cb5e3c-d3de-4c88-a0ba-2512dd6766cf",
   "metadata": {
    "id": "c8cb5e3c-d3de-4c88-a0ba-2512dd6766cf"
   },
   "source": [
    "__Evaluating testing error for lasso regression with best lambda__"
   ]
  },
  {
   "cell_type": "code",
   "execution_count": 30,
   "id": "90b42182-3ef6-4c9f-8b09-e8369c5c8800",
   "metadata": {
    "id": "90b42182-3ef6-4c9f-8b09-e8369c5c8800"
   },
   "outputs": [],
   "source": [
    "# prepare prediction result on test data\n",
    "X_df_test = feature_df_test.to_numpy()\n",
    "y_predict_test = lasso_best.predict(X_df_test)\n",
    "\n",
    "# ground truth target\n",
    "y_df_test = target_df_test.to_numpy()\n",
    "y_df_test = y_df_test.reshape(len(y_df_test),)"
   ]
  },
  {
   "cell_type": "code",
   "execution_count": 31,
   "id": "5320d635-1608-4fda-a847-3d1a055c2c3a",
   "metadata": {
    "id": "5320d635-1608-4fda-a847-3d1a055c2c3a",
    "outputId": "a8234000-d2ff-488f-f586-7e15b445418d"
   },
   "outputs": [
    {
     "name": "stdout",
     "output_type": "stream",
     "text": [
      "RMSE for testing data is 5.33956016704644\n",
      "MAE for testing data is 3.5729005271200136\n",
      "MAPE for testing data is 0.18399301988769076\n"
     ]
    }
   ],
   "source": [
    "from sklearn.metrics import mean_squared_error\n",
    "from sklearn.metrics import mean_absolute_error\n",
    "from sklearn.metrics import mean_absolute_percentage_error\n",
    "\n",
    "print('RMSE for testing data is {}'.format(np.sqrt(mean_squared_error(y_df_test, y_predict_test))))\n",
    "print('MAE for testing data is {}'.format(mean_absolute_error(y_df_test, y_predict_test)))\n",
    "print('MAPE for testing data is {}'.format(mean_absolute_percentage_error(y_df_test, y_predict_test)))"
   ]
  },
  {
   "cell_type": "markdown",
   "id": "b65d605d-ed6e-4d1d-b5a8-3dec020f9d49",
   "metadata": {
    "id": "b65d605d-ed6e-4d1d-b5a8-3dec020f9d49"
   },
   "source": [
    "- The RMSE testing error is good because RMSE value is low if we compare with target value\n",
    "-\n",
    "MAE and MAPE are good, because its under 20%, -+ same with training training error (not overfitting), and we can say that the model Just Right"
   ]
  },
  {
   "cell_type": "code",
   "execution_count": 33,
   "id": "093f7e69",
   "metadata": {},
   "outputs": [
    {
     "data": {
      "text/plain": [
       "['ridge_reg_ten_model.joblib']"
      ]
     },
     "execution_count": 33,
     "metadata": {},
     "output_type": "execute_result"
    }
   ],
   "source": [
    "import joblib\n",
    "\n",
    "# Save the model with alpha=10\n",
    "model_filename = 'ridge_reg_ten_model.joblib'\n",
    "joblib.dump(ridge_reg_ten, model_filename)"
   ]
  },
  {
   "cell_type": "markdown",
   "id": "2158053f-e58a-41a4-8e24-57a1243580de",
   "metadata": {
    "id": "2158053f-e58a-41a4-8e24-57a1243580de"
   },
   "source": [
    "## TRY THE MODEL"
   ]
  },
  {
   "cell_type": "code",
   "execution_count": null,
   "id": "8eac032b-28cb-46c6-9aa1-83da10ba1eb0",
   "metadata": {
    "id": "8eac032b-28cb-46c6-9aa1-83da10ba1eb0",
    "outputId": "1a399925-7898-40f3-8894-c6acab779ec6"
   },
   "outputs": [
    {
     "data": {
      "text/html": [
       "<div>\n",
       "<style scoped>\n",
       "    .dataframe tbody tr th:only-of-type {\n",
       "        vertical-align: middle;\n",
       "    }\n",
       "\n",
       "    .dataframe tbody tr th {\n",
       "        vertical-align: top;\n",
       "    }\n",
       "\n",
       "    .dataframe thead th {\n",
       "        text-align: right;\n",
       "    }\n",
       "</style>\n",
       "<table border=\"1\" class=\"dataframe\">\n",
       "  <thead>\n",
       "    <tr style=\"text-align: right;\">\n",
       "      <th></th>\n",
       "      <th>crim</th>\n",
       "      <th>zn</th>\n",
       "      <th>indus</th>\n",
       "      <th>chas</th>\n",
       "      <th>nox</th>\n",
       "      <th>rm</th>\n",
       "      <th>age</th>\n",
       "      <th>dis</th>\n",
       "      <th>rad</th>\n",
       "      <th>tax</th>\n",
       "      <th>ptratio</th>\n",
       "      <th>black</th>\n",
       "      <th>lstat</th>\n",
       "      <th>medv</th>\n",
       "    </tr>\n",
       "  </thead>\n",
       "  <tbody>\n",
       "    <tr>\n",
       "      <th>0</th>\n",
       "      <td>0.00632</td>\n",
       "      <td>18.0</td>\n",
       "      <td>2.31</td>\n",
       "      <td>0</td>\n",
       "      <td>0.538</td>\n",
       "      <td>6.575</td>\n",
       "      <td>65.2</td>\n",
       "      <td>4.0900</td>\n",
       "      <td>1</td>\n",
       "      <td>296</td>\n",
       "      <td>15.3</td>\n",
       "      <td>396.90</td>\n",
       "      <td>4.98</td>\n",
       "      <td>24.0</td>\n",
       "    </tr>\n",
       "    <tr>\n",
       "      <th>1</th>\n",
       "      <td>0.02731</td>\n",
       "      <td>0.0</td>\n",
       "      <td>7.07</td>\n",
       "      <td>0</td>\n",
       "      <td>0.469</td>\n",
       "      <td>6.421</td>\n",
       "      <td>78.9</td>\n",
       "      <td>4.9671</td>\n",
       "      <td>2</td>\n",
       "      <td>242</td>\n",
       "      <td>17.8</td>\n",
       "      <td>396.90</td>\n",
       "      <td>9.14</td>\n",
       "      <td>21.6</td>\n",
       "    </tr>\n",
       "    <tr>\n",
       "      <th>2</th>\n",
       "      <td>0.02729</td>\n",
       "      <td>0.0</td>\n",
       "      <td>7.07</td>\n",
       "      <td>0</td>\n",
       "      <td>0.469</td>\n",
       "      <td>7.185</td>\n",
       "      <td>61.1</td>\n",
       "      <td>4.9671</td>\n",
       "      <td>2</td>\n",
       "      <td>242</td>\n",
       "      <td>17.8</td>\n",
       "      <td>392.83</td>\n",
       "      <td>4.03</td>\n",
       "      <td>34.7</td>\n",
       "    </tr>\n",
       "    <tr>\n",
       "      <th>3</th>\n",
       "      <td>0.03237</td>\n",
       "      <td>0.0</td>\n",
       "      <td>2.18</td>\n",
       "      <td>0</td>\n",
       "      <td>0.458</td>\n",
       "      <td>6.998</td>\n",
       "      <td>45.8</td>\n",
       "      <td>6.0622</td>\n",
       "      <td>3</td>\n",
       "      <td>222</td>\n",
       "      <td>18.7</td>\n",
       "      <td>394.63</td>\n",
       "      <td>2.94</td>\n",
       "      <td>33.4</td>\n",
       "    </tr>\n",
       "    <tr>\n",
       "      <th>4</th>\n",
       "      <td>0.06905</td>\n",
       "      <td>0.0</td>\n",
       "      <td>2.18</td>\n",
       "      <td>0</td>\n",
       "      <td>0.458</td>\n",
       "      <td>7.147</td>\n",
       "      <td>54.2</td>\n",
       "      <td>6.0622</td>\n",
       "      <td>3</td>\n",
       "      <td>222</td>\n",
       "      <td>18.7</td>\n",
       "      <td>396.90</td>\n",
       "      <td>5.33</td>\n",
       "      <td>36.2</td>\n",
       "    </tr>\n",
       "    <tr>\n",
       "      <th>...</th>\n",
       "      <td>...</td>\n",
       "      <td>...</td>\n",
       "      <td>...</td>\n",
       "      <td>...</td>\n",
       "      <td>...</td>\n",
       "      <td>...</td>\n",
       "      <td>...</td>\n",
       "      <td>...</td>\n",
       "      <td>...</td>\n",
       "      <td>...</td>\n",
       "      <td>...</td>\n",
       "      <td>...</td>\n",
       "      <td>...</td>\n",
       "      <td>...</td>\n",
       "    </tr>\n",
       "    <tr>\n",
       "      <th>501</th>\n",
       "      <td>0.06263</td>\n",
       "      <td>0.0</td>\n",
       "      <td>11.93</td>\n",
       "      <td>0</td>\n",
       "      <td>0.573</td>\n",
       "      <td>6.593</td>\n",
       "      <td>69.1</td>\n",
       "      <td>2.4786</td>\n",
       "      <td>1</td>\n",
       "      <td>273</td>\n",
       "      <td>21.0</td>\n",
       "      <td>391.99</td>\n",
       "      <td>9.67</td>\n",
       "      <td>22.4</td>\n",
       "    </tr>\n",
       "    <tr>\n",
       "      <th>502</th>\n",
       "      <td>0.04527</td>\n",
       "      <td>0.0</td>\n",
       "      <td>11.93</td>\n",
       "      <td>0</td>\n",
       "      <td>0.573</td>\n",
       "      <td>6.120</td>\n",
       "      <td>76.7</td>\n",
       "      <td>2.2875</td>\n",
       "      <td>1</td>\n",
       "      <td>273</td>\n",
       "      <td>21.0</td>\n",
       "      <td>396.90</td>\n",
       "      <td>9.08</td>\n",
       "      <td>20.6</td>\n",
       "    </tr>\n",
       "    <tr>\n",
       "      <th>503</th>\n",
       "      <td>0.06076</td>\n",
       "      <td>0.0</td>\n",
       "      <td>11.93</td>\n",
       "      <td>0</td>\n",
       "      <td>0.573</td>\n",
       "      <td>6.976</td>\n",
       "      <td>91.0</td>\n",
       "      <td>2.1675</td>\n",
       "      <td>1</td>\n",
       "      <td>273</td>\n",
       "      <td>21.0</td>\n",
       "      <td>396.90</td>\n",
       "      <td>5.64</td>\n",
       "      <td>23.9</td>\n",
       "    </tr>\n",
       "    <tr>\n",
       "      <th>504</th>\n",
       "      <td>0.10959</td>\n",
       "      <td>0.0</td>\n",
       "      <td>11.93</td>\n",
       "      <td>0</td>\n",
       "      <td>0.573</td>\n",
       "      <td>6.794</td>\n",
       "      <td>89.3</td>\n",
       "      <td>2.3889</td>\n",
       "      <td>1</td>\n",
       "      <td>273</td>\n",
       "      <td>21.0</td>\n",
       "      <td>393.45</td>\n",
       "      <td>6.48</td>\n",
       "      <td>22.0</td>\n",
       "    </tr>\n",
       "    <tr>\n",
       "      <th>505</th>\n",
       "      <td>0.04741</td>\n",
       "      <td>0.0</td>\n",
       "      <td>11.93</td>\n",
       "      <td>0</td>\n",
       "      <td>0.573</td>\n",
       "      <td>6.030</td>\n",
       "      <td>80.8</td>\n",
       "      <td>2.5050</td>\n",
       "      <td>1</td>\n",
       "      <td>273</td>\n",
       "      <td>21.0</td>\n",
       "      <td>396.90</td>\n",
       "      <td>7.88</td>\n",
       "      <td>11.9</td>\n",
       "    </tr>\n",
       "  </tbody>\n",
       "</table>\n",
       "<p>506 rows × 14 columns</p>\n",
       "</div>"
      ],
      "text/plain": [
       "        crim    zn  indus  chas    nox     rm   age     dis  rad  tax  \\\n",
       "0    0.00632  18.0   2.31     0  0.538  6.575  65.2  4.0900    1  296   \n",
       "1    0.02731   0.0   7.07     0  0.469  6.421  78.9  4.9671    2  242   \n",
       "2    0.02729   0.0   7.07     0  0.469  7.185  61.1  4.9671    2  242   \n",
       "3    0.03237   0.0   2.18     0  0.458  6.998  45.8  6.0622    3  222   \n",
       "4    0.06905   0.0   2.18     0  0.458  7.147  54.2  6.0622    3  222   \n",
       "..       ...   ...    ...   ...    ...    ...   ...     ...  ...  ...   \n",
       "501  0.06263   0.0  11.93     0  0.573  6.593  69.1  2.4786    1  273   \n",
       "502  0.04527   0.0  11.93     0  0.573  6.120  76.7  2.2875    1  273   \n",
       "503  0.06076   0.0  11.93     0  0.573  6.976  91.0  2.1675    1  273   \n",
       "504  0.10959   0.0  11.93     0  0.573  6.794  89.3  2.3889    1  273   \n",
       "505  0.04741   0.0  11.93     0  0.573  6.030  80.8  2.5050    1  273   \n",
       "\n",
       "     ptratio   black  lstat  medv  \n",
       "0       15.3  396.90   4.98  24.0  \n",
       "1       17.8  396.90   9.14  21.6  \n",
       "2       17.8  392.83   4.03  34.7  \n",
       "3       18.7  394.63   2.94  33.4  \n",
       "4       18.7  396.90   5.33  36.2  \n",
       "..       ...     ...    ...   ...  \n",
       "501     21.0  391.99   9.67  22.4  \n",
       "502     21.0  396.90   9.08  20.6  \n",
       "503     21.0  396.90   5.64  23.9  \n",
       "504     21.0  393.45   6.48  22.0  \n",
       "505     21.0  396.90   7.88  11.9  \n",
       "\n",
       "[506 rows x 14 columns]"
      ]
     },
     "execution_count": 35,
     "metadata": {},
     "output_type": "execute_result"
    }
   ],
   "source": [
    "df"
   ]
  },
  {
   "cell_type": "code",
   "execution_count": null,
   "id": "2d871265-44b2-4b56-88f4-09ec41e7afd4",
   "metadata": {
    "id": "2d871265-44b2-4b56-88f4-09ec41e7afd4",
    "outputId": "8cff94f5-ec77-4078-dd46-4af10425166c"
   },
   "outputs": [
    {
     "data": {
      "text/html": [
       "<div>\n",
       "<style scoped>\n",
       "    .dataframe tbody tr th:only-of-type {\n",
       "        vertical-align: middle;\n",
       "    }\n",
       "\n",
       "    .dataframe tbody tr th {\n",
       "        vertical-align: top;\n",
       "    }\n",
       "\n",
       "    .dataframe thead th {\n",
       "        text-align: right;\n",
       "    }\n",
       "</style>\n",
       "<table border=\"1\" class=\"dataframe\">\n",
       "  <thead>\n",
       "    <tr style=\"text-align: right;\">\n",
       "      <th></th>\n",
       "      <th>crim</th>\n",
       "      <th>zn</th>\n",
       "      <th>indus</th>\n",
       "      <th>chas</th>\n",
       "      <th>nox</th>\n",
       "      <th>rm</th>\n",
       "      <th>tax</th>\n",
       "      <th>ptratio</th>\n",
       "      <th>black</th>\n",
       "      <th>lstat</th>\n",
       "    </tr>\n",
       "  </thead>\n",
       "  <tbody>\n",
       "    <tr>\n",
       "      <th>0</th>\n",
       "      <td>0.03237</td>\n",
       "      <td>0.0</td>\n",
       "      <td>2.18</td>\n",
       "      <td>0</td>\n",
       "      <td>0.573</td>\n",
       "      <td>6.976</td>\n",
       "      <td>270</td>\n",
       "      <td>20.0</td>\n",
       "      <td>392.83</td>\n",
       "      <td>9.67</td>\n",
       "    </tr>\n",
       "  </tbody>\n",
       "</table>\n",
       "</div>"
      ],
      "text/plain": [
       "      crim   zn  indus  chas    nox     rm  tax  ptratio   black  lstat\n",
       "0  0.03237  0.0   2.18     0  0.573  6.976  270     20.0  392.83   9.67"
      ]
     },
     "execution_count": 94,
     "metadata": {},
     "output_type": "execute_result"
    }
   ],
   "source": [
    "Ani = pd.DataFrame(\n",
    "    {\n",
    "        'crim' : [0.03237],\n",
    "        'zn' : [0.0],\n",
    "        'indus' : [2.18],\n",
    "        'chas' : [0],\n",
    "        'nox' : [0.573],\n",
    "        'rm' : [6.976],\n",
    "        'tax' : [270],\n",
    "        'ptratio' : [20.00],\n",
    "        'black' : [392.83],\n",
    "        'lstat' : [9.67]\n",
    "    }\n",
    "\n",
    ")\n",
    "Ani"
   ]
  },
  {
   "cell_type": "code",
   "execution_count": null,
   "id": "2b196679-eb2f-4a1f-b89f-17570de041b0",
   "metadata": {
    "id": "2b196679-eb2f-4a1f-b89f-17570de041b0",
    "outputId": "85bb67d0-e9f0-42bd-9ec7-7eb09883952c"
   },
   "outputs": [
    {
     "name": "stdout",
     "output_type": "stream",
     "text": [
      "Housing price predict : [26.31406489]\n"
     ]
    }
   ],
   "source": [
    "print('Housing price predict :', ridge_best.predict(Ani))"
   ]
  }
 ],
 "metadata": {
  "colab": {
   "provenance": []
  },
  "kernelspec": {
   "display_name": "Python 3 (ipykernel)",
   "language": "python",
   "name": "python3"
  },
  "language_info": {
   "codemirror_mode": {
    "name": "ipython",
    "version": 3
   },
   "file_extension": ".py",
   "mimetype": "text/x-python",
   "name": "python",
   "nbconvert_exporter": "python",
   "pygments_lexer": "ipython3",
   "version": "3.11.5"
  }
 },
 "nbformat": 4,
 "nbformat_minor": 5
}
